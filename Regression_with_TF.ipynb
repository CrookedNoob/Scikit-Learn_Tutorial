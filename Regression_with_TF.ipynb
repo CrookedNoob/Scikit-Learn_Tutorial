{
 "cells": [
  {
   "cell_type": "code",
   "execution_count": 1,
   "metadata": {},
   "outputs": [],
   "source": [
    "import numpy as np\n",
    "import tensorflow as tf\n",
    "from sklearn.datasets import fetch_california_housing\n",
    "from sklearn.preprocessing import StandardScaler\n",
    "\n",
    "tf.reset_default_graph()\n",
    "\n",
    "housing= fetch_california_housing()"
   ]
  },
  {
   "cell_type": "code",
   "execution_count": 3,
   "metadata": {},
   "outputs": [],
   "source": [
    "m,n= housing.data.shape"
   ]
  },
  {
   "cell_type": "code",
   "execution_count": 4,
   "metadata": {},
   "outputs": [],
   "source": [
    "housing_data_plus_bias= np.c_[np.ones((m,1)), housing.data]"
   ]
  },
  {
   "cell_type": "code",
   "execution_count": 5,
   "metadata": {},
   "outputs": [
    {
     "data": {
      "text/plain": [
       "(20640, 9)"
      ]
     },
     "execution_count": 5,
     "metadata": {},
     "output_type": "execute_result"
    }
   ],
   "source": [
    "housing_data_plus_bias.shape"
   ]
  },
  {
   "cell_type": "code",
   "execution_count": 6,
   "metadata": {},
   "outputs": [],
   "source": [
    "X= tf.constant(housing_data_plus_bias, tf.float32, name=\"X\")\n",
    "y= tf.constant(housing.target.reshape(-1,1), dtype=tf.float32, name=\"y\")"
   ]
  },
  {
   "cell_type": "code",
   "execution_count": 7,
   "metadata": {},
   "outputs": [],
   "source": [
    "XT= tf.transpose(X)\n",
    "theta= tf.matmul(tf.matmul(tf.matrix_inverse(tf.matmul(XT,X)),XT),y)"
   ]
  },
  {
   "cell_type": "code",
   "execution_count": 8,
   "metadata": {},
   "outputs": [
    {
     "name": "stdout",
     "output_type": "stream",
     "text": [
      "[[-3.7185181e+01]\n",
      " [ 4.3633747e-01]\n",
      " [ 9.3952334e-03]\n",
      " [-1.0711310e-01]\n",
      " [ 6.4479220e-01]\n",
      " [-4.0338000e-06]\n",
      " [-3.7813708e-03]\n",
      " [-4.2348403e-01]\n",
      " [-4.3721911e-01]]\n"
     ]
    }
   ],
   "source": [
    "with tf.Session() as sess:\n",
    "    print(theta.eval())"
   ]
  },
  {
   "cell_type": "code",
   "execution_count": 9,
   "metadata": {},
   "outputs": [],
   "source": [
    "tf.reset_default_graph()\n",
    "\n",
    "scaler= StandardScaler()\n",
    "scaled_housing_data= scaler.fit_transform(housing.data)\n",
    "scaled_housing_data_plus_bias= np.c_[np.ones((m,1)), scaled_housing_data]\n",
    "\n",
    "n_epochs=1000\n",
    "lr=0.01"
   ]
  },
  {
   "cell_type": "code",
   "execution_count": 10,
   "metadata": {},
   "outputs": [],
   "source": [
    "X= tf.constant(scaled_housing_data_plus_bias, tf.float32, name=\"X\")\n",
    "y= tf.constant(housing.target.reshape(-1,1), dtype=tf.float32, name=\"y\")"
   ]
  },
  {
   "cell_type": "code",
   "execution_count": 11,
   "metadata": {},
   "outputs": [],
   "source": [
    "theta= tf.Variable(tf.random_uniform([n+1,1], -1.0,1.0), name='theta')"
   ]
  },
  {
   "cell_type": "code",
   "execution_count": 12,
   "metadata": {},
   "outputs": [],
   "source": [
    "y_pred= tf.matmul(X, theta, name=\"predictions\")\n",
    "error= y_pred-y"
   ]
  },
  {
   "cell_type": "code",
   "execution_count": 13,
   "metadata": {},
   "outputs": [],
   "source": [
    "mse= tf.reduce_mean(tf.square(error), name='mse')\n",
    "gradients= 2/m*tf.matmul(tf.transpose(X), error)"
   ]
  },
  {
   "cell_type": "code",
   "execution_count": 14,
   "metadata": {},
   "outputs": [],
   "source": [
    "training_op= tf.assign(theta, theta-lr*gradients)"
   ]
  },
  {
   "cell_type": "code",
   "execution_count": 15,
   "metadata": {},
   "outputs": [
    {
     "name": "stdout",
     "output_type": "stream",
     "text": [
      "EPoch:  0 MSE:  4.894837\n",
      "EPoch:  100 MSE:  0.6277854\n",
      "EPoch:  200 MSE:  0.5529114\n",
      "EPoch:  300 MSE:  0.5464861\n",
      "EPoch:  400 MSE:  0.5424296\n",
      "EPoch:  500 MSE:  0.5391757\n",
      "EPoch:  600 MSE:  0.5365308\n",
      "EPoch:  700 MSE:  0.5343739\n",
      "EPoch:  800 MSE:  0.5326103\n",
      "EPoch:  900 MSE:  0.5311651\n"
     ]
    }
   ],
   "source": [
    "init= tf.global_variables_initializer()\n",
    "\n",
    "with tf.Session() as sess:\n",
    "    sess.run(init)\n",
    "    \n",
    "    for epoch in range(n_epochs):\n",
    "        sess.run(training_op)\n",
    "        if epoch%100 == 0:\n",
    "            print(\"EPoch: \", epoch, \"MSE: \", mse.eval())\n",
    "        \n",
    "        \n",
    "    best_theta= theta.eval()"
   ]
  },
  {
   "cell_type": "code",
   "execution_count": 16,
   "metadata": {},
   "outputs": [
    {
     "data": {
      "text/plain": [
       "array([[ 2.0685523e+00],\n",
       "       [ 9.0265828e-01],\n",
       "       [ 1.3900998e-01],\n",
       "       [-3.9124501e-01],\n",
       "       [ 4.0425456e-01],\n",
       "       [ 1.9183499e-03],\n",
       "       [-4.2597238e-02],\n",
       "       [-6.8361855e-01],\n",
       "       [-6.6218078e-01]], dtype=float32)"
      ]
     },
     "execution_count": 16,
     "metadata": {},
     "output_type": "execute_result"
    }
   ],
   "source": [
    "best_theta"
   ]
  },
  {
   "cell_type": "code",
   "execution_count": 17,
   "metadata": {},
   "outputs": [],
   "source": [
    "optimizer= tf.train.GradientDescentOptimizer(lr)\n",
    "training_op=optimizer.minimize(mse)"
   ]
  },
  {
   "cell_type": "code",
   "execution_count": 19,
   "metadata": {},
   "outputs": [],
   "source": [
    "optimizer2= tf.train.MomentumOptimizer(learning_rate=lr, momentum=0.9)\n",
    "training_op2=optimizer2.minimize(mse)"
   ]
  },
  {
   "cell_type": "code",
   "execution_count": 20,
   "metadata": {},
   "outputs": [],
   "source": [
    "A= tf.placeholder(tf.float32, shape=(None, 3))\n",
    "B= A + 5"
   ]
  },
  {
   "cell_type": "code",
   "execution_count": 21,
   "metadata": {},
   "outputs": [],
   "source": [
    "with tf.Session() as sess:\n",
    "    B_val_1= B.eval(feed_dict={A: [[1,2,3]]})\n",
    "    B_val_2= B.eval(feed_dict={A: [[1,2,3], [3,4,5]]})"
   ]
  },
  {
   "cell_type": "code",
   "execution_count": 22,
   "metadata": {},
   "outputs": [
    {
     "name": "stdout",
     "output_type": "stream",
     "text": [
      "[[6. 7. 8.]]\n",
      "[[ 6.  7.  8.]\n",
      " [ 8.  9. 10.]]\n"
     ]
    }
   ],
   "source": [
    "print(B_val_1)\n",
    "print(B_val_2)"
   ]
  },
  {
   "cell_type": "code",
   "execution_count": 27,
   "metadata": {},
   "outputs": [],
   "source": [
    "X= tf.placeholder(tf.float32, shape=(None, n+1), name=\"X\")\n",
    "y= tf.placeholder(tf.float32, shape=(None, 1), name=\"y\")\n",
    "\n",
    "batch_size=100\n",
    "n_batches= int(np.ceil(m/batch_size))"
   ]
  },
  {
   "cell_type": "code",
   "execution_count": 28,
   "metadata": {},
   "outputs": [],
   "source": [
    "def fetch_data(epoch, batch_index, batch_size):\n",
    "    np.random.seed(epoch*n_batches + batch_size)\n",
    "    indices= np.random.randint(m, size=batch_size)\n",
    "    X_batch= scaled_housing_data_plus_bias[indices]\n",
    "    y_batch= housing.target.reshape(-1,1)[indices]\n",
    "    return X_batch, y_batch"
   ]
  },
  {
   "cell_type": "code",
   "execution_count": 31,
   "metadata": {},
   "outputs": [],
   "source": [
    "with tf.Session() as sess:\n",
    "    sess.run(init)\n",
    "    \n",
    "    for epoch in range(n_epochs):\n",
    "        for batch_index in range(n_batches):\n",
    "            X_batch, y_batch= fetch_data(epoch, batch_index, batch_size)\n",
    "            sess.run(training_op, feed_dict={X:X_batch, y:y_batch})\n",
    "            \n",
    "    best_theta= theta.eval()"
   ]
  },
  {
   "cell_type": "markdown",
   "metadata": {},
   "source": [
    "# Saving and Restoring Model"
   ]
  },
  {
   "cell_type": "code",
   "execution_count": 75,
   "metadata": {},
   "outputs": [
    {
     "name": "stdout",
     "output_type": "stream",
     "text": [
      "Epoch 0 MSE = 2.7544262\n",
      "Epoch 100 MSE = 0.63222194\n",
      "Epoch 200 MSE = 0.5727803\n",
      "Epoch 300 MSE = 0.5585008\n",
      "Epoch 400 MSE = 0.54907\n",
      "Epoch 500 MSE = 0.54228795\n",
      "Epoch 600 MSE = 0.5373791\n",
      "Epoch 700 MSE = 0.53382194\n",
      "Epoch 800 MSE = 0.5312425\n",
      "Epoch 900 MSE = 0.5293705\n"
     ]
    }
   ],
   "source": [
    "tf.reset_default_graph()\n",
    "\n",
    "saver= tf.train.Saver({\"weights\":theta})\n",
    "\n",
    "n_epochs=1000\n",
    "lr=0.01\n",
    "\n",
    "X = tf.constant(scaled_housing_data_plus_bias, dtype=tf.float32, name=\"X\")            \n",
    "y = tf.constant(housing.target.reshape(-1, 1), dtype=tf.float32, name=\"y\")            \n",
    "theta = tf.Variable(tf.random_uniform([n + 1, 1], -1.0, 1.0, seed=42), name=\"theta\")\n",
    "y_pred = tf.matmul(X, theta, name=\"predictions\")                                      \n",
    "error = y_pred - y                                                                    \n",
    "mse = tf.reduce_mean(tf.square(error), name=\"mse\")                                    \n",
    "optimizer = tf.train.GradientDescentOptimizer(learning_rate=lr)            \n",
    "training_op = optimizer.minimize(mse) \n",
    "\n",
    "\n",
    "init = tf.global_variables_initializer()\n",
    "\n",
    "saver= tf.train.Saver()\n",
    "\n",
    "with tf.Session() as sess:\n",
    "    sess.run(init)\n",
    "\n",
    "    for epoch in range(n_epochs):\n",
    "        if epoch % 100 == 0:\n",
    "            print(\"Epoch\", epoch, \"MSE =\", mse.eval())                                \n",
    "            save_path = saver.save(sess, \"checkpoint/model.ckpt\")\n",
    "        sess.run(training_op)\n",
    "    \n",
    "    best_theta = theta.eval()\n",
    "    save_path = saver.save(sess, \"checkpoint/model_final.ckpt\")"
   ]
  },
  {
   "cell_type": "code",
   "execution_count": 64,
   "metadata": {},
   "outputs": [
    {
     "data": {
      "text/plain": [
       "array([[ 2.06855226e+00],\n",
       "       [ 7.74078071e-01],\n",
       "       [ 1.31192386e-01],\n",
       "       [-1.17845066e-01],\n",
       "       [ 1.64778143e-01],\n",
       "       [ 7.44078017e-04],\n",
       "       [-3.91945131e-02],\n",
       "       [-8.61356676e-01],\n",
       "       [-8.23479772e-01]], dtype=float32)"
      ]
     },
     "execution_count": 64,
     "metadata": {},
     "output_type": "execute_result"
    }
   ],
   "source": [
    "best_theta"
   ]
  },
  {
   "cell_type": "code",
   "execution_count": 76,
   "metadata": {},
   "outputs": [
    {
     "name": "stdout",
     "output_type": "stream",
     "text": [
      "INFO:tensorflow:Restoring parameters from checkpoint/model.ckpt\n"
     ]
    }
   ],
   "source": [
    "with tf.Session() as sess:\n",
    "    saver.restore(sess, \"checkpoint/model.ckpt\")\n",
    "    best_theta_restored= theta.eval()"
   ]
  },
  {
   "cell_type": "code",
   "execution_count": 77,
   "metadata": {},
   "outputs": [
    {
     "data": {
      "text/plain": [
       "False"
      ]
     },
     "execution_count": 77,
     "metadata": {},
     "output_type": "execute_result"
    }
   ],
   "source": [
    "np.allclose(best_theta, best_theta_restored)"
   ]
  },
  {
   "cell_type": "code",
   "execution_count": 78,
   "metadata": {},
   "outputs": [
    {
     "data": {
      "text/plain": [
       "array([[ 2.06855226e+00],\n",
       "       [ 7.74078071e-01],\n",
       "       [ 1.31192386e-01],\n",
       "       [-1.17845066e-01],\n",
       "       [ 1.64778143e-01],\n",
       "       [ 7.44078017e-04],\n",
       "       [-3.91945131e-02],\n",
       "       [-8.61356676e-01],\n",
       "       [-8.23479772e-01]], dtype=float32)"
      ]
     },
     "execution_count": 78,
     "metadata": {},
     "output_type": "execute_result"
    }
   ],
   "source": [
    "best_theta"
   ]
  },
  {
   "cell_type": "code",
   "execution_count": 82,
   "metadata": {},
   "outputs": [],
   "source": [
    "tf.reset_default_graph()\n",
    "\n",
    "saver= tf.train.import_meta_graph(\"checkpoint/model.ckpt.meta\")\n",
    "theta= tf.get_default_graph().get_tensor_by_name(\"theta:0\")"
   ]
  },
  {
   "cell_type": "code",
   "execution_count": 88,
   "metadata": {},
   "outputs": [
    {
     "name": "stdout",
     "output_type": "stream",
     "text": [
      "INFO:tensorflow:Restoring parameters from checkpoint/model.ckpt\n"
     ]
    }
   ],
   "source": [
    "with tf.Session() as sess:\n",
    "    saver.restore(sess, \"checkpoint/model.ckpt\")\n",
    "    best_theta_restored= theta.eval()"
   ]
  },
  {
   "cell_type": "markdown",
   "metadata": {},
   "source": [
    "# Visualizing Graph using TensorBorad"
   ]
  },
  {
   "cell_type": "code",
   "execution_count": 133,
   "metadata": {},
   "outputs": [],
   "source": [
    "from datetime import datetime\n",
    "\n",
    "tf.reset_default_graph()\n",
    "\n",
    "now= datetime.utcnow().strftime(\"%Y%m%d%H%M%S\")\n",
    "root_logdir=\"tf_logs\"\n",
    "logdir= \"{}/run-{}\".format(root_logdir, now)\n"
   ]
  },
  {
   "cell_type": "code",
   "execution_count": 134,
   "metadata": {},
   "outputs": [],
   "source": [
    "n_epochs=1000\n",
    "lr=0.01"
   ]
  },
  {
   "cell_type": "code",
   "execution_count": 135,
   "metadata": {},
   "outputs": [],
   "source": [
    "X= tf.placeholder(tf.float32, shape= (None, n+1), name=\"X\")\n",
    "y= tf.placeholder(tf.float32, shape= (None, 1), name=\"y\")\n",
    "\n",
    "theta= tf.Variable(tf.random_uniform([n+1, 1], -1.0,1.0, seed=42), name=\"theta\")\n",
    "y_pred= tf.matmul(X, theta, name=\"prediction\")"
   ]
  },
  {
   "cell_type": "code",
   "execution_count": 136,
   "metadata": {},
   "outputs": [],
   "source": [
    "def fetch_data(epoch, batch_index, batch_size):\n",
    "    np.random.seed(epoch*n_batches + batch_size)\n",
    "    indices= np.random.randint(m, size=batch_size)\n",
    "    X_batch= scaled_housing_data_plus_bias[indices]\n",
    "    y_batch= housing.target.reshape(-1,1)[indices]\n",
    "    return X_batch, y_batch"
   ]
  },
  {
   "cell_type": "code",
   "execution_count": 137,
   "metadata": {},
   "outputs": [],
   "source": [
    "with tf.name_scope(\"loss\") as scope:\n",
    "    error= y_pred - y\n",
    "    mse= tf.reduce_mean(tf.square(error), name=\"mse\")"
   ]
  },
  {
   "cell_type": "code",
   "execution_count": 138,
   "metadata": {},
   "outputs": [],
   "source": [
    "optimizer= tf.train.GradientDescentOptimizer(lr)\n",
    "train_ops= optimizer.minimize(mse)"
   ]
  },
  {
   "cell_type": "code",
   "execution_count": 139,
   "metadata": {},
   "outputs": [],
   "source": [
    "init= tf.global_variables_initializer()\n",
    "\n",
    "mse_summary= tf.summary.scalar('MSE', mse)\n",
    "file_writer= tf.summary.FileWriter(logdir, tf.get_default_graph())"
   ]
  },
  {
   "cell_type": "code",
   "execution_count": 140,
   "metadata": {},
   "outputs": [],
   "source": [
    "n_epochs=10\n",
    "batch_size=100\n",
    "n_batches= int(np.ceil(m/batch_size)) "
   ]
  },
  {
   "cell_type": "code",
   "execution_count": 141,
   "metadata": {},
   "outputs": [
    {
     "name": "stdout",
     "output_type": "stream",
     "text": [
      "best theta:\n",
      "[[ 2.110401  ]\n",
      " [ 0.8305104 ]\n",
      " [ 0.2103839 ]\n",
      " [-0.03092568]\n",
      " [ 0.33762753]\n",
      " [-0.10639951]\n",
      " [-1.1107156 ]\n",
      " [-1.0491753 ]\n",
      " [-0.96639705]]\n"
     ]
    }
   ],
   "source": [
    "with tf.Session() as sess:\n",
    "    sess.run(init)\n",
    "    \n",
    "    for epoch in range(n_epochs):\n",
    "        for batch_index in range(n_batches):\n",
    "            X_batch, y_batch= fetch_data(epoch, batch_index, batch_size)\n",
    "            if batch_index % 10 == 0:\n",
    "                summary_str= mse_summary.eval(feed_dict={X:X_batch, y:y_batch})\n",
    "                step= epoch*n_batches + batch_index\n",
    "                file_writer.add_summary(summary_str, step)\n",
    "            sess.run(train_ops, feed_dict={X:X_batch, y:y_batch})\n",
    "    \n",
    "    best_theta= theta.eval()\n",
    "    \n",
    "file_writer.flush()\n",
    "file_writer.close()\n",
    "print(\"best theta:\")\n",
    "print(best_theta)"
   ]
  },
  {
   "cell_type": "code",
   "execution_count": 144,
   "metadata": {},
   "outputs": [
    {
     "name": "stdout",
     "output_type": "stream",
     "text": [
      "loss/sub\n",
      "loss/mse\n"
     ]
    }
   ],
   "source": [
    "print(error.op.name)\n",
    "print(mse.op.name)"
   ]
  },
  {
   "cell_type": "code",
   "execution_count": 147,
   "metadata": {},
   "outputs": [
    {
     "name": "stdout",
     "output_type": "stream",
     "text": [
      "a\n",
      "a_1\n",
      "param/a\n",
      "param_1/a\n"
     ]
    }
   ],
   "source": [
    "tf.reset_default_graph()\n",
    "\n",
    "a1 = tf.Variable(0, name=\"a\")      # name == \"a\"\n",
    "a2 = tf.Variable(0, name=\"a\")      # name == \"a_1\"\n",
    "\n",
    "with tf.name_scope(\"param\"):       # name == \"param\"\n",
    "    a3 = tf.Variable(0, name=\"a\")  # name == \"param/a\"\n",
    "\n",
    "with tf.name_scope(\"param\"):       # name == \"param_1\"\n",
    "    a4 = tf.Variable(0, name=\"a\")  # name == \"param_1/a\"\n",
    "\n",
    "for node in (a1, a2, a3, a4):\n",
    "    print(node.op.name)"
   ]
  },
  {
   "cell_type": "markdown",
   "metadata": {},
   "source": [
    "# Modularity"
   ]
  },
  {
   "cell_type": "code",
   "execution_count": 160,
   "metadata": {},
   "outputs": [],
   "source": [
    "tf.reset_default_graph()\n",
    "\n",
    "n_features=3\n",
    "X= tf.placeholder(tf.float32, shape=(None, n_features), name=\"X\")\n",
    "\n",
    "w1= tf.Variable(tf.random_normal((n_features, 1)), name=\"weight1\")\n",
    "w2= tf.Variable(tf.random_normal((n_features, 1)), name=\"weight2\")\n",
    "b1= tf.Variable(0.0, name=\"bias1\")\n",
    "b2= tf.Variable(0.0, name=\"bias2\")"
   ]
  },
  {
   "cell_type": "code",
   "execution_count": 161,
   "metadata": {},
   "outputs": [],
   "source": [
    "z1= tf.add(tf.matmul(X, w1), b1, name=\"z1\")\n",
    "z2= tf.add(tf.matmul(X, w2), b2, name=\"z2\")"
   ]
  },
  {
   "cell_type": "code",
   "execution_count": 162,
   "metadata": {},
   "outputs": [],
   "source": [
    "relu1= tf.maximum(z1, 0, name=\"relu1\")\n",
    "relu2= tf.maximum(z2, 0, name=\"relu2\")"
   ]
  },
  {
   "cell_type": "code",
   "execution_count": 163,
   "metadata": {},
   "outputs": [],
   "source": [
    "output= tf.add(relu1, relu2, name=\"output\")"
   ]
  },
  {
   "cell_type": "code",
   "execution_count": 164,
   "metadata": {},
   "outputs": [],
   "source": [
    "def relu(X):\n",
    "    w_shape= (int(X.get_shape()[1]),1)\n",
    "    w= tf.Variable(tf.random_normal(w_shape), name=\"weights\")\n",
    "    b= tf.Variable(0.0, name=\"bias\")\n",
    "    z= tf.add(tf.multiply(X, w), b, name=\"z\")\n",
    "    return tf.maximum(z, 0., name=\"relu\")\n",
    "\n",
    "n_features=3\n",
    "X= tf.placeholder(tf.float32, shape=(None, n_features), name=\"X\")\n",
    "relus= [relu(X) for i in range(5)]\n",
    "output= tf.add_n(relus, name=\"output\")\n",
    "\n",
    "file_writer= tf.summary.FileWriter(\"logs/relu2\", tf.get_default_graph())\n",
    "file_writer.close()"
   ]
  },
  {
   "cell_type": "code",
   "execution_count": 174,
   "metadata": {},
   "outputs": [],
   "source": [
    "tf.reset_default_graph()\n",
    "\n",
    "def relu(X):\n",
    "    with tf.name_scope(\"relu\"):\n",
    "        w_shape= (int(X.get_shape()[1]),1)\n",
    "        w= tf.Variable(tf.random_normal(w_shape), name=\"weights\")\n",
    "        b= tf.Variable(0.0, name=\"bias\")\n",
    "        z= tf.add(tf.multiply(X, w), b, name=\"z\")\n",
    "        return tf.maximum(z, 0., name=\"relu\")\n",
    "\n",
    "n_features=3\n",
    "X= tf.placeholder(tf.float32, shape=(None, n_features), name=\"X\")\n",
    "relus= [relu(X) for i in range(5)]\n",
    "output= tf.add_n(relus, name=\"output\")\n",
    "\n",
    "file_writer= tf.summary.FileWriter(\"logs/relu1\", tf.get_default_graph())\n",
    "file_writer.close()"
   ]
  },
  {
   "cell_type": "code",
   "execution_count": 175,
   "metadata": {},
   "outputs": [],
   "source": [
    "tf.reset_default_graph()\n",
    "\n",
    "def relu(X):\n",
    "    with tf.name_scope(\"relu\"):\n",
    "        if not hasattr(relu, \"threshold\"):\n",
    "            relu.threshold = tf.Variable(0.0, name=\"threshold\")\n",
    "        w_shape= (int(X.get_shape()[1]),1)\n",
    "        w= tf.Variable(tf.random_normal(w_shape), name=\"weights\")\n",
    "        b= tf.Variable(0.0, name=\"bias\")\n",
    "        z= tf.add(tf.multiply(X, w), b, name=\"z\")\n",
    "        return tf.maximum(z, relu.threshold, name=\"relu\")\n",
    "\n",
    "n_features=3\n",
    "threshold= tf.Variable(0.0, name=\"threshold\")\n",
    "X= tf.placeholder(tf.float32, shape=(None, n_features), name=\"X\")\n",
    "relus= [relu(X) for i in range(5)]\n",
    "output= tf.add_n(relus, name=\"output\")\n",
    "\n",
    "file_writer= tf.summary.FileWriter(\"logs/relu3\", tf.get_default_graph())\n",
    "file_writer.close()"
   ]
  },
  {
   "cell_type": "markdown",
   "metadata": {},
   "source": [
    "# Exercise"
   ]
  },
  {
   "cell_type": "code",
   "execution_count": 16,
   "metadata": {},
   "outputs": [],
   "source": [
    "x= tf.constant(2)\n",
    "y= tf.constant(3)"
   ]
  },
  {
   "cell_type": "code",
   "execution_count": 17,
   "metadata": {},
   "outputs": [
    {
     "name": "stdout",
     "output_type": "stream",
     "text": [
      "2\n",
      "2\n",
      "[2, 3]\n"
     ]
    }
   ],
   "source": [
    "with tf.Session() as sess:\n",
    "    print(x.eval(session=sess))\n",
    "    print(sess.run(x))\n",
    "    print(sess.run([x,y]))"
   ]
  },
  {
   "cell_type": "markdown",
   "metadata": {},
   "source": [
    "# Logistic Regression with TF"
   ]
  },
  {
   "cell_type": "code",
   "execution_count": 133,
   "metadata": {},
   "outputs": [],
   "source": [
    "from sklearn.datasets import make_moons\n",
    "import matplotlib.pyplot as plt\n",
    "import tensorflow as tf\n",
    "import os\n",
    "\n",
    "m=1000\n",
    "X_moons, y_moons= make_moons(m, noise=0.1, random_state=42)"
   ]
  },
  {
   "cell_type": "code",
   "execution_count": 65,
   "metadata": {},
   "outputs": [],
   "source": [
    "X_moons_with_bias= np.c_[np.ones((m,1)), X_moons]"
   ]
  },
  {
   "cell_type": "code",
   "execution_count": 66,
   "metadata": {},
   "outputs": [
    {
     "data": {
      "text/plain": [
       "array([[ 1.        , -0.05146968,  0.44419863],\n",
       "       [ 1.        ,  1.03201691, -0.41974116],\n",
       "       [ 1.        ,  0.86789186, -0.25482711],\n",
       "       [ 1.        ,  0.288851  , -0.44866862],\n",
       "       [ 1.        , -0.83343911,  0.53505665]])"
      ]
     },
     "execution_count": 66,
     "metadata": {},
     "output_type": "execute_result"
    }
   ],
   "source": [
    "X_moons_with_bias[:5]"
   ]
  },
  {
   "cell_type": "code",
   "execution_count": 67,
   "metadata": {},
   "outputs": [],
   "source": [
    "y_moons_vec= y_moons.reshape(-1,1)"
   ]
  },
  {
   "cell_type": "code",
   "execution_count": 68,
   "metadata": {},
   "outputs": [],
   "source": [
    "test_ratio=0.2\n",
    "test_size= int(m*test_ratio)\n",
    "\n",
    "X_train=X_moons_with_bias[:-test_size]\n",
    "X_test=X_moons_with_bias[-test_size:]\n",
    "\n",
    "y_train=y_moons_vec[:-test_size]\n",
    "y_test=y_moons_vec[-test_size:]"
   ]
  },
  {
   "cell_type": "code",
   "execution_count": 69,
   "metadata": {},
   "outputs": [],
   "source": [
    "def random_batch(X_train, y_train, batch_size):\n",
    "    index= np.random.randint(0, len(X_train), batch_size)\n",
    "    X_batch= X_train[index]\n",
    "    y_batch= y_train[index]\n",
    "    return X_batch, y_batch"
   ]
  },
  {
   "cell_type": "code",
   "execution_count": 70,
   "metadata": {},
   "outputs": [],
   "source": [
    "tf.reset_default_graph()"
   ]
  },
  {
   "cell_type": "code",
   "execution_count": 72,
   "metadata": {},
   "outputs": [
    {
     "data": {
      "text/plain": [
       "(800, 3)"
      ]
     },
     "execution_count": 72,
     "metadata": {},
     "output_type": "execute_result"
    }
   ],
   "source": [
    "X_train.shape"
   ]
  },
  {
   "cell_type": "code",
   "execution_count": 73,
   "metadata": {},
   "outputs": [],
   "source": [
    "n_inputs= X_train.shape[1]"
   ]
  },
  {
   "cell_type": "code",
   "execution_count": 75,
   "metadata": {},
   "outputs": [],
   "source": [
    "X = tf.placeholder(tf.float32, shape=(None, n_inputs), name=\"X\")\n",
    "y = tf.placeholder(tf.float32, shape=(None, 1), name=\"y\")\n",
    "theta= tf.Variable(tf.random_uniform([n_inputs, 1], -1.0, 1.0, seed=42), name=\"theta\")\n",
    "\n",
    "logits= tf.matmul(X, theta, name=\"logits\")\n",
    "\n",
    "y_proba= tf.sigmoid(logits)"
   ]
  },
  {
   "cell_type": "code",
   "execution_count": 76,
   "metadata": {},
   "outputs": [],
   "source": [
    "epsilon= 1e-7\n",
    "loss= -tf.reduce_mean(y*tf.log(y_proba+epsilon) + (1-y)*tf.log(1-y_proba+epsilon))"
   ]
  },
  {
   "cell_type": "code",
   "execution_count": 77,
   "metadata": {},
   "outputs": [],
   "source": [
    "loss= tf.losses.log_loss(y, y_proba)"
   ]
  },
  {
   "cell_type": "code",
   "execution_count": 78,
   "metadata": {},
   "outputs": [],
   "source": [
    "lr=0.01\n",
    "optimizer= tf.train.GradientDescentOptimizer(lr)\n",
    "training_ops= optimizer.minimize(loss)"
   ]
  },
  {
   "cell_type": "code",
   "execution_count": 81,
   "metadata": {},
   "outputs": [],
   "source": [
    "init= tf.global_variables_initializer()"
   ]
  },
  {
   "cell_type": "code",
   "execution_count": 82,
   "metadata": {},
   "outputs": [],
   "source": [
    "n_epochs=1000\n",
    "batch_size=50\n",
    "n_batches= int(np.ceil(m/batch_size))"
   ]
  },
  {
   "cell_type": "code",
   "execution_count": 84,
   "metadata": {},
   "outputs": [
    {
     "name": "stdout",
     "output_type": "stream",
     "text": [
      "Epoch:  0  Loss:  0.87668914\n",
      "Epoch:  100  Loss:  0.35262862\n",
      "Epoch:  200  Loss:  0.31121537\n",
      "Epoch:  300  Loss:  0.29478484\n",
      "Epoch:  400  Loss:  0.28630102\n",
      "Epoch:  500  Loss:  0.28130656\n",
      "Epoch:  600  Loss:  0.27860996\n",
      "Epoch:  700  Loss:  0.27664283\n",
      "Epoch:  800  Loss:  0.2752615\n",
      "Epoch:  900  Loss:  0.27466014\n"
     ]
    }
   ],
   "source": [
    "with tf.Session() as sess:\n",
    "    sess.run(init)\n",
    "    for epoch in range(n_epochs):\n",
    "        for batch_index in range(n_batches):\n",
    "            X_batch, y_batch= random_batch(X_train, y_train, batch_size)\n",
    "            sess.run(training_ops, feed_dict={X: X_batch, y: y_batch})\n",
    "        loss_val= loss.eval({X:X_test, y:y_test})\n",
    "        if epoch % 100 == 0:\n",
    "            print(\"Epoch: \", epoch, \" Loss: \", loss_val)\n",
    "    y_proba_val= y_proba.eval(feed_dict={X:X_test, y:y_test})"
   ]
  },
  {
   "cell_type": "code",
   "execution_count": 85,
   "metadata": {},
   "outputs": [
    {
     "data": {
      "text/plain": [
       "array([[0.54544383],\n",
       "       [0.7086868 ],\n",
       "       [0.5152017 ],\n",
       "       [0.99107164],\n",
       "       [0.50745684],\n",
       "       [0.01029209],\n",
       "       [0.9753125 ],\n",
       "       [0.03910354],\n",
       "       [0.43440217],\n",
       "       [0.63773334]], dtype=float32)"
      ]
     },
     "execution_count": 85,
     "metadata": {},
     "output_type": "execute_result"
    }
   ],
   "source": [
    "y_proba_val[:10]"
   ]
  },
  {
   "cell_type": "code",
   "execution_count": 88,
   "metadata": {},
   "outputs": [
    {
     "data": {
      "text/plain": [
       "array([[ True],\n",
       "       [ True],\n",
       "       [ True],\n",
       "       [ True],\n",
       "       [ True]])"
      ]
     },
     "execution_count": 88,
     "metadata": {},
     "output_type": "execute_result"
    }
   ],
   "source": [
    "y_pred= (y_proba_val > 0.5)\n",
    "y_pred[:5]"
   ]
  },
  {
   "cell_type": "code",
   "execution_count": 89,
   "metadata": {},
   "outputs": [
    {
     "data": {
      "text/plain": [
       "0.8627450980392157"
      ]
     },
     "execution_count": 89,
     "metadata": {},
     "output_type": "execute_result"
    }
   ],
   "source": [
    "from sklearn.metrics import precision_score, recall_score\n",
    "\n",
    "precision_score(y_test, y_pred)"
   ]
  },
  {
   "cell_type": "code",
   "execution_count": 90,
   "metadata": {},
   "outputs": [
    {
     "data": {
      "text/plain": [
       "0.8888888888888888"
      ]
     },
     "execution_count": 90,
     "metadata": {},
     "output_type": "execute_result"
    }
   ],
   "source": [
    "recall_score(y_test, y_pred)"
   ]
  },
  {
   "cell_type": "code",
   "execution_count": 108,
   "metadata": {
    "scrolled": true
   },
   "outputs": [
    {
     "data": {
      "text/plain": [
       "<matplotlib.legend.Legend at 0x18b2c9909e8>"
      ]
     },
     "execution_count": 108,
     "metadata": {},
     "output_type": "execute_result"
    },
    {
     "data": {
      "image/png": "[encoded data removed]",
      "text/plain": [
       "<Figure size 432x288 with 1 Axes>"
      ]
     },
     "metadata": {
      "needs_background": "light"
     },
     "output_type": "display_data"
    }
   ],
   "source": [
    "y_pred_idx= y_pred.reshape(-1)\n",
    "plt.plot(X_test[y_pred_idx,1], X_test[y_pred_idx,2], \"o\", label=\"positive\")\n",
    "plt.plot(X_test[~y_pred_idx,1], X_test[~y_pred_idx,2], \"o\", label=\"negative\")\n",
    "plt.legend()"
   ]
  },
  {
   "cell_type": "code",
   "execution_count": 113,
   "metadata": {},
   "outputs": [],
   "source": [
    "X_train_enhanced= np.c_[X_train,\n",
    "                       np.square(X_train[:,1]),\n",
    "                       np.square(X_train[:,2]),\n",
    "                       X_train[:,1]**3,\n",
    "                       X_train[:,2]**3]\n",
    "\n",
    "X_test_enhanced= np.c_[X_test,\n",
    "                       np.square(X_test[:,1]),\n",
    "                       np.square(X_test[:,2]),\n",
    "                       X_test[:,1]**3,\n",
    "                       X_test[:,2]**3]"
   ]
  },
  {
   "cell_type": "code",
   "execution_count": 114,
   "metadata": {},
   "outputs": [
    {
     "data": {
      "text/plain": [
       "array([[ 1.00000000e+00, -5.14696757e-02,  4.44198631e-01,\n",
       "         2.64912752e-03,  1.97312424e-01, -1.36349734e-04,\n",
       "         8.76459084e-02],\n",
       "       [ 1.00000000e+00,  1.03201691e+00, -4.19741157e-01,\n",
       "         1.06505890e+00,  1.76182639e-01,  1.09915879e+00,\n",
       "        -7.39511049e-02],\n",
       "       [ 1.00000000e+00,  8.67891864e-01, -2.54827114e-01,\n",
       "         7.53236288e-01,  6.49368582e-02,  6.53727646e-01,\n",
       "        -1.65476722e-02],\n",
       "       [ 1.00000000e+00,  2.88850997e-01, -4.48668621e-01,\n",
       "         8.34348982e-02,  2.01303531e-01,  2.41002535e-02,\n",
       "        -9.03185778e-02],\n",
       "       [ 1.00000000e+00, -8.33439108e-01,  5.35056649e-01,\n",
       "         6.94620746e-01,  2.86285618e-01, -5.78924095e-01,\n",
       "         1.53179024e-01]])"
      ]
     },
     "execution_count": 114,
     "metadata": {},
     "output_type": "execute_result"
    }
   ],
   "source": [
    "X_train_enhanced[:5]"
   ]
  },
  {
   "cell_type": "code",
   "execution_count": 146,
   "metadata": {},
   "outputs": [],
   "source": [
    "tf.reset_default_graph()"
   ]
  },
  {
   "cell_type": "code",
   "execution_count": 147,
   "metadata": {},
   "outputs": [],
   "source": [
    "def logistic_regression(X, y, initializer=None, lr=0.01, seed=42):\n",
    "    n_inputs_including_bias= X_train_enhanced.shape[1]\n",
    "    with tf.name_scope(\"logistic_regression\"):\n",
    "        with tf.name_scope(\"model\"):\n",
    "            if initializer==None:\n",
    "                initializer= tf.random_uniform([n_inputs_including_bias, 1], -1.,1., seed=seed)\n",
    "            theta= tf.Variable(initializer, name=\"theta\")\n",
    "            logits= tf.matmul(X, theta, name=\"logits\")\n",
    "            y_proba= tf.sigmoid(logits)\n",
    "            \n",
    "        with tf.name_scope(\"train\"):\n",
    "            loss= tf.losses.log_loss(y, y_proba, scope=\"loss\")\n",
    "            optimizer= tf.train.GradientDescentOptimizer(learning_rate=lr)\n",
    "            training_op= optimizer.minimize(loss)\n",
    "            loss_summary= tf.summary.scalar('log_loss', loss)\n",
    "        with tf.name_scope(\"init\"):\n",
    "            init= tf.global_variables_initializer()\n",
    "        with tf.name_scope(\"save\"):\n",
    "            saver= tf.train.Saver()\n",
    "    return y_proba, loss, training_op, loss_summary, init, saver"
   ]
  },
  {
   "cell_type": "code",
   "execution_count": 148,
   "metadata": {},
   "outputs": [],
   "source": [
    "from datetime import datetime\n",
    "\n",
    "def log_dir(prefix=\"\"):\n",
    "    now= datetime.utcnow().strftime(\"%Y%M%D%H%M%S\")\n",
    "    root_logdir= \"tf_logs\"\n",
    "    if prefix:\n",
    "        prefix += \"-\"\n",
    "    name= prefix + \"run-\" + now\n",
    "    return \"{}/{}/\".format(root_logdir, name)"
   ]
  },
  {
   "cell_type": "code",
   "execution_count": 149,
   "metadata": {},
   "outputs": [],
   "source": [
    "n_inputs= 2 + 4\n",
    "logdir= log_dir(\"logreg\")\n",
    "\n",
    "X= tf.placeholder(tf.float32, shape=(None, n_inputs+1), name=\"X\")\n",
    "y= tf.placeholder(tf.float32, shape=(None, 1), name=\"y\")"
   ]
  },
  {
   "cell_type": "code",
   "execution_count": 150,
   "metadata": {},
   "outputs": [],
   "source": [
    "y_proba, loss, training_op, loss_summary, init, saver= logistic_regression(X,y)"
   ]
  },
  {
   "cell_type": "code",
   "execution_count": 151,
   "metadata": {},
   "outputs": [],
   "source": [
    "file_writer= tf.summary.FileWriter(logdir, tf.get_default_graph())"
   ]
  },
  {
   "cell_type": "code",
   "execution_count": 152,
   "metadata": {},
   "outputs": [],
   "source": [
    "n_epochs=10001\n",
    "batch_size=50\n",
    "n_batches= int(np.ceil(m/batch_size))"
   ]
  },
  {
   "cell_type": "code",
   "execution_count": 153,
   "metadata": {},
   "outputs": [],
   "source": [
    "checkpoint_path= \"checkpoint/logreg/log_reg_model.ckpt\"\n",
    "checkpoint_epoch_path = checkpoint_path + \".epoch\"\n",
    "final_model_path= \"./final_model/\""
   ]
  },
  {
   "cell_type": "code",
   "execution_count": 156,
   "metadata": {},
   "outputs": [
    {
     "name": "stdout",
     "output_type": "stream",
     "text": [
      "Training was Interrupted. Resuming at epoch 10001\n",
      "INFO:tensorflow:Restoring parameters from checkpoint/logreg/log_reg_model.ckpt\n",
      "Epoch:  0  Loss: 0.025686476\n",
      "Epoch:  500  Loss: 0.025520563\n",
      "Epoch:  1000  Loss: 0.025318561\n",
      "Epoch:  1500  Loss: 0.0252012\n",
      "Epoch:  2000  Loss: 0.02497815\n",
      "Epoch:  2500  Loss: 0.024856025\n",
      "Epoch:  3000  Loss: 0.024656612\n",
      "Epoch:  3500  Loss: 0.024534598\n",
      "Epoch:  4000  Loss: 0.02441683\n",
      "Epoch:  4500  Loss: 0.024256002\n",
      "Epoch:  5000  Loss: 0.024120495\n",
      "Epoch:  5500  Loss: 0.024002291\n",
      "Epoch:  6000  Loss: 0.023835566\n",
      "Epoch:  6500  Loss: 0.023685226\n",
      "Epoch:  7000  Loss: 0.02358039\n",
      "Epoch:  7500  Loss: 0.023495078\n",
      "Epoch:  8000  Loss: 0.023368578\n",
      "Epoch:  8500  Loss: 0.023268532\n",
      "Epoch:  9000  Loss: 0.023130704\n",
      "Epoch:  9500  Loss: 0.02304491\n",
      "Epoch:  10000  Loss: 0.022927597\n"
     ]
    }
   ],
   "source": [
    "with tf.Session() as sess:\n",
    "    if os.path.isfile(checkpoint_epoch_path):\n",
    "        with open(checkpoint_epoch_path, \"rb\") as f:\n",
    "            start_epoch= int(f.read())\n",
    "        print(\"Training was Interrupted. Resuming at epoch\", start_epoch)\n",
    "        saver.restore(sess, checkpoint_path)\n",
    "    else:\n",
    "        start_epoch=0\n",
    "        sess.run(init)\n",
    "        \n",
    "    for epoch in range(n_epochs):\n",
    "        for batch_index in range(n_batches):\n",
    "            X_batch, y_batch= random_batch(X_train_enhanced, y_train, batch_size)\n",
    "            sess.run(training_op, feed_dict={X: X_batch, y: y_batch})\n",
    "        loss_val, summary_str= sess.run([loss, loss_summary], feed_dict={X: X_test_enhanced, y: y_test})\n",
    "        file_writer.add_summary(summary_str, epoch)\n",
    "        if epoch % 500 == 0:\n",
    "            print(\"Epoch: \", epoch, \" Loss:\", loss_val)\n",
    "            saver.save(sess, checkpoint_path)\n",
    "            with open(checkpoint_epoch_path, \"wb\") as f:\n",
    "                f.write(b\"%d\" % (epoch + 1))\n",
    "                \n",
    "    saver.save(sess, final_model_path)\n",
    "    y_proba_val= y_proba.eval(feed_dict= {X: X_test_enhanced, y: y_test})\n",
    "    os.remove(checkpoint_epoch_path)"
   ]
  },
  {
   "cell_type": "code",
   "execution_count": null,
   "metadata": {},
   "outputs": [],
   "source": []
  }
 ],
 "metadata": {
  "kernelspec": {
   "display_name": "Python 3",
   "language": "python",
   "name": "python3"
  },
  "language_info": {
   "codemirror_mode": {
    "name": "ipython",
    "version": 3
   },
   "file_extension": ".py",
   "mimetype": "text/x-python",
   "name": "python",
   "nbconvert_exporter": "python",
   "pygments_lexer": "ipython3",
   "version": "3.6.6"
  }
 },
 "nbformat": 4,
 "nbformat_minor": 2
}
