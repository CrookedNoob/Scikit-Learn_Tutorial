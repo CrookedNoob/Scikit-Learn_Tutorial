{
 "cells": [
  {
   "cell_type": "code",
   "execution_count": 1,
   "metadata": {},
   "outputs": [],
   "source": [
    "import numpy as np\n",
    "from sklearn.linear_model import Perceptron\n",
    "from sklearn.datasets import load_iris"
   ]
  },
  {
   "cell_type": "code",
   "execution_count": 2,
   "metadata": {},
   "outputs": [],
   "source": [
    "iris= load_iris()\n",
    "\n",
    "x=iris.data[:, (2,3)]\n",
    "y= (iris.target==0).astype(np.int)"
   ]
  },
  {
   "cell_type": "code",
   "execution_count": 3,
   "metadata": {},
   "outputs": [
    {
     "name": "stderr",
     "output_type": "stream",
     "text": [
      "c:\\users\\soumyama\\appdata\\local\\programs\\python\\python36\\lib\\site-packages\\sklearn\\linear_model\\stochastic_gradient.py:128: FutureWarning: max_iter and tol parameters have been added in <class 'sklearn.linear_model.perceptron.Perceptron'> in 0.19. If both are left unset, they default to max_iter=5 and tol=None. If tol is not None, max_iter defaults to max_iter=1000. From 0.21, default max_iter will be 1000, and default tol will be 1e-3.\n",
      "  \"and default tol will be 1e-3.\" % type(self), FutureWarning)\n"
     ]
    },
    {
     "data": {
      "text/plain": [
       "Perceptron(alpha=0.0001, class_weight=None, eta0=1.0, fit_intercept=True,\n",
       "      max_iter=None, n_iter=None, n_jobs=1, penalty=None, random_state=42,\n",
       "      shuffle=True, tol=None, verbose=0, warm_start=False)"
      ]
     },
     "execution_count": 3,
     "metadata": {},
     "output_type": "execute_result"
    }
   ],
   "source": [
    "per_clf= Perceptron(random_state=42)\n",
    "per_clf.fit(x,y)"
   ]
  },
  {
   "cell_type": "code",
   "execution_count": 4,
   "metadata": {},
   "outputs": [],
   "source": [
    "y_pred= per_clf.predict([[2., 0.5]])"
   ]
  },
  {
   "cell_type": "code",
   "execution_count": 5,
   "metadata": {},
   "outputs": [
    {
     "data": {
      "text/plain": [
       "array([1])"
      ]
     },
     "execution_count": 5,
     "metadata": {},
     "output_type": "execute_result"
    }
   ],
   "source": [
    "y_pred"
   ]
  },
  {
   "cell_type": "markdown",
   "metadata": {},
   "source": [
    "# DNN using TF on MNIST "
   ]
  },
  {
   "cell_type": "code",
   "execution_count": 1,
   "metadata": {},
   "outputs": [],
   "source": [
    "import tensorflow as tf\n",
    "import numpy as np"
   ]
  },
  {
   "cell_type": "code",
   "execution_count": 2,
   "metadata": {},
   "outputs": [],
   "source": [
    "n_inputs= 28*28\n",
    "n_hidden1=300\n",
    "n_hidden2=100\n",
    "n_outputs=10"
   ]
  },
  {
   "cell_type": "code",
   "execution_count": 3,
   "metadata": {},
   "outputs": [],
   "source": [
    "X= tf.placeholder(tf.float32, shape=(None, n_inputs), name=\"X\")\n",
    "y= tf.placeholder(tf.int64, shape=(None), name=\"y\")"
   ]
  },
  {
   "cell_type": "code",
   "execution_count": 4,
   "metadata": {},
   "outputs": [],
   "source": [
    "def neuron_layer(X, n_neurons, name, activation=None):\n",
    "    with tf.name_scope(name):\n",
    "        n_inputs= int(X.get_shape()[1])\n",
    "        stddev= 2/np.sqrt(n_inputs)\n",
    "        init= tf.truncated_normal((n_inputs, n_neurons), stddev=stddev)\n",
    "        W= tf.Variable(init, name=\"weights\")\n",
    "        b= tf.Variable(tf.zeros([n_neurons]), name=\"biases\")\n",
    "        z= tf.matmul(X, W) + b\n",
    "        if activation==\"relu\":\n",
    "            return tf.nn.relu(z)\n",
    "        else:\n",
    "            return z"
   ]
  },
  {
   "cell_type": "code",
   "execution_count": 5,
   "metadata": {},
   "outputs": [],
   "source": [
    "with tf.name_scope(\"dnn\"):\n",
    "    hidden1= neuron_layer(X, n_hidden1, \"hidden1\", activation=\"relu\")\n",
    "    hidden2= neuron_layer(hidden1, n_hidden2, \"hidden2\", activation=\"relu\")\n",
    "    logits= neuron_layer(hidden2, n_outputs, \"output\")"
   ]
  },
  {
   "cell_type": "code",
   "execution_count": 6,
   "metadata": {},
   "outputs": [],
   "source": [
    "from tensorflow.contrib.layers import fully_connected\n",
    "\n",
    "with tf.name_scope(\"dnn\"):\n",
    "    hidden1= fully_connected(X, n_hidden1, scope=\"hidden1\")\n",
    "    hidden2= fully_connected(hidden1, n_hidden2, scope=\"hidden2\")\n",
    "    logits= fully_connected(hidden2, n_outputs, scope=\"output\", activation_fn=None)"
   ]
  },
  {
   "cell_type": "code",
   "execution_count": 7,
   "metadata": {},
   "outputs": [],
   "source": [
    "with tf.name_scope(\"loss\"):\n",
    "    xentropy= tf.nn.sparse_softmax_cross_entropy_with_logits(labels=y, logits=logits)\n",
    "    loss= tf.reduce_mean(xentropy, name=\"loss\")"
   ]
  },
  {
   "cell_type": "code",
   "execution_count": 8,
   "metadata": {},
   "outputs": [],
   "source": [
    "learning_rate= 0.01\n",
    "\n",
    "with tf.name_scope(\"train\"):\n",
    "    optimizer= tf.train.GradientDescentOptimizer(learning_rate)\n",
    "    training_op= optimizer.minimize(loss)"
   ]
  },
  {
   "cell_type": "code",
   "execution_count": 9,
   "metadata": {},
   "outputs": [],
   "source": [
    "with tf.name_scope(\"eval\"):\n",
    "    correct = tf.nn.in_top_k(logits, y, 1)\n",
    "    accuracy= tf.reduce_mean(tf.cast(correct, tf.float32))"
   ]
  },
  {
   "cell_type": "code",
   "execution_count": 10,
   "metadata": {},
   "outputs": [],
   "source": [
    "init= tf.global_variables_initializer()"
   ]
  },
  {
   "cell_type": "code",
   "execution_count": 11,
   "metadata": {},
   "outputs": [],
   "source": [
    "saver= tf.train.Saver()"
   ]
  },
  {
   "cell_type": "code",
   "execution_count": 12,
   "metadata": {},
   "outputs": [],
   "source": [
    "(X_train, y_train), (X_test, y_test) = tf.keras.datasets.mnist.load_data()\n",
    "\n",
    "X_train= X_train.reshape(-1, 784).astype(\"float32\")/255.\n",
    "X_test= X_test.reshape(-1, 784).astype(\"float32\")/255.\n",
    "\n",
    "y_train= y_train.astype(\"int32\")\n",
    "y_test= y_test.astype(\"int32\")"
   ]
  },
  {
   "cell_type": "code",
   "execution_count": 13,
   "metadata": {},
   "outputs": [],
   "source": [
    "n_epochs=400\n",
    "batch_size=50"
   ]
  },
  {
   "cell_type": "code",
   "execution_count": 14,
   "metadata": {},
   "outputs": [],
   "source": [
    "def shuffle_batch(X, y, batch_size):\n",
    "    rnd_idx = np.random.permutation(len(X))\n",
    "    n_batches = len(X) // batch_size\n",
    "    for batch_idx in np.array_split(rnd_idx, n_batches):\n",
    "        X_batch, y_batch = X[batch_idx], y[batch_idx]\n",
    "        yield X_batch, y_batch"
   ]
  },
  {
   "cell_type": "code",
   "execution_count": 15,
   "metadata": {},
   "outputs": [
    {
     "name": "stdout",
     "output_type": "stream",
     "text": [
      "Epoch:  0 Train Accuracy:  0.86 Test Accuracy:  0.9016\n",
      "Epoch:  1 Train Accuracy:  0.96 Test Accuracy:  0.9232\n",
      "Epoch:  2 Train Accuracy:  0.92 Test Accuracy:  0.933\n",
      "Epoch:  3 Train Accuracy:  0.96 Test Accuracy:  0.937\n",
      "Epoch:  4 Train Accuracy:  0.92 Test Accuracy:  0.9436\n",
      "Epoch:  5 Train Accuracy:  1.0 Test Accuracy:  0.948\n",
      "Epoch:  6 Train Accuracy:  1.0 Test Accuracy:  0.9521\n",
      "Epoch:  7 Train Accuracy:  0.96 Test Accuracy:  0.9549\n",
      "Epoch:  8 Train Accuracy:  0.92 Test Accuracy:  0.9575\n",
      "Epoch:  9 Train Accuracy:  1.0 Test Accuracy:  0.9593\n",
      "Epoch:  10 Train Accuracy:  0.92 Test Accuracy:  0.9612\n",
      "Epoch:  11 Train Accuracy:  0.98 Test Accuracy:  0.9639\n",
      "Epoch:  12 Train Accuracy:  1.0 Test Accuracy:  0.9649\n",
      "Epoch:  13 Train Accuracy:  0.96 Test Accuracy:  0.9662\n",
      "Epoch:  14 Train Accuracy:  1.0 Test Accuracy:  0.967\n",
      "Epoch:  15 Train Accuracy:  0.96 Test Accuracy:  0.9689\n",
      "Epoch:  16 Train Accuracy:  1.0 Test Accuracy:  0.9694\n",
      "Epoch:  17 Train Accuracy:  1.0 Test Accuracy:  0.9708\n",
      "Epoch:  18 Train Accuracy:  1.0 Test Accuracy:  0.9722\n",
      "Epoch:  19 Train Accuracy:  1.0 Test Accuracy:  0.9725\n",
      "Epoch:  20 Train Accuracy:  0.98 Test Accuracy:  0.9725\n",
      "Epoch:  21 Train Accuracy:  1.0 Test Accuracy:  0.9733\n",
      "Epoch:  22 Train Accuracy:  1.0 Test Accuracy:  0.9737\n",
      "Epoch:  23 Train Accuracy:  0.98 Test Accuracy:  0.9743\n",
      "Epoch:  24 Train Accuracy:  1.0 Test Accuracy:  0.9747\n",
      "Epoch:  25 Train Accuracy:  1.0 Test Accuracy:  0.9747\n",
      "Epoch:  26 Train Accuracy:  0.98 Test Accuracy:  0.9759\n",
      "Epoch:  27 Train Accuracy:  1.0 Test Accuracy:  0.9765\n",
      "Epoch:  28 Train Accuracy:  0.98 Test Accuracy:  0.9767\n",
      "Epoch:  29 Train Accuracy:  1.0 Test Accuracy:  0.9755\n",
      "Epoch:  30 Train Accuracy:  0.98 Test Accuracy:  0.9776\n",
      "Epoch:  31 Train Accuracy:  1.0 Test Accuracy:  0.9774\n",
      "Epoch:  32 Train Accuracy:  1.0 Test Accuracy:  0.9776\n",
      "Epoch:  33 Train Accuracy:  1.0 Test Accuracy:  0.9771\n",
      "Epoch:  34 Train Accuracy:  1.0 Test Accuracy:  0.9782\n",
      "Epoch:  35 Train Accuracy:  1.0 Test Accuracy:  0.9779\n",
      "Epoch:  36 Train Accuracy:  1.0 Test Accuracy:  0.9779\n",
      "Epoch:  37 Train Accuracy:  0.98 Test Accuracy:  0.9776\n",
      "Epoch:  38 Train Accuracy:  1.0 Test Accuracy:  0.9788\n",
      "Epoch:  39 Train Accuracy:  1.0 Test Accuracy:  0.9792\n",
      "Epoch:  40 Train Accuracy:  1.0 Test Accuracy:  0.9785\n",
      "Epoch:  41 Train Accuracy:  1.0 Test Accuracy:  0.9793\n",
      "Epoch:  42 Train Accuracy:  0.98 Test Accuracy:  0.9801\n",
      "Epoch:  43 Train Accuracy:  1.0 Test Accuracy:  0.9794\n",
      "Epoch:  44 Train Accuracy:  1.0 Test Accuracy:  0.9792\n",
      "Epoch:  45 Train Accuracy:  1.0 Test Accuracy:  0.9788\n",
      "Epoch:  46 Train Accuracy:  1.0 Test Accuracy:  0.9802\n",
      "Epoch:  47 Train Accuracy:  1.0 Test Accuracy:  0.9795\n",
      "Epoch:  48 Train Accuracy:  1.0 Test Accuracy:  0.9791\n",
      "Epoch:  49 Train Accuracy:  1.0 Test Accuracy:  0.9794\n",
      "Epoch:  50 Train Accuracy:  1.0 Test Accuracy:  0.9798\n",
      "Epoch:  51 Train Accuracy:  1.0 Test Accuracy:  0.9799\n",
      "Epoch:  52 Train Accuracy:  1.0 Test Accuracy:  0.9795\n",
      "Epoch:  53 Train Accuracy:  1.0 Test Accuracy:  0.9794\n",
      "Epoch:  54 Train Accuracy:  1.0 Test Accuracy:  0.9792\n",
      "Epoch:  55 Train Accuracy:  1.0 Test Accuracy:  0.98\n",
      "Epoch:  56 Train Accuracy:  1.0 Test Accuracy:  0.9804\n",
      "Epoch:  57 Train Accuracy:  1.0 Test Accuracy:  0.9799\n",
      "Epoch:  58 Train Accuracy:  1.0 Test Accuracy:  0.9798\n",
      "Epoch:  59 Train Accuracy:  1.0 Test Accuracy:  0.9792\n",
      "Epoch:  60 Train Accuracy:  1.0 Test Accuracy:  0.9788\n",
      "Epoch:  61 Train Accuracy:  1.0 Test Accuracy:  0.9802\n",
      "Epoch:  62 Train Accuracy:  1.0 Test Accuracy:  0.9795\n",
      "Epoch:  63 Train Accuracy:  1.0 Test Accuracy:  0.9798\n",
      "Epoch:  64 Train Accuracy:  1.0 Test Accuracy:  0.9802\n",
      "Epoch:  65 Train Accuracy:  1.0 Test Accuracy:  0.9798\n",
      "Epoch:  66 Train Accuracy:  1.0 Test Accuracy:  0.9799\n",
      "Epoch:  67 Train Accuracy:  1.0 Test Accuracy:  0.9803\n",
      "Epoch:  68 Train Accuracy:  1.0 Test Accuracy:  0.9804\n",
      "Epoch:  69 Train Accuracy:  1.0 Test Accuracy:  0.9797\n",
      "Epoch:  70 Train Accuracy:  1.0 Test Accuracy:  0.9802\n",
      "Epoch:  71 Train Accuracy:  1.0 Test Accuracy:  0.9796\n",
      "Epoch:  72 Train Accuracy:  0.98 Test Accuracy:  0.9805\n",
      "Epoch:  73 Train Accuracy:  1.0 Test Accuracy:  0.9798\n",
      "Epoch:  74 Train Accuracy:  1.0 Test Accuracy:  0.9799\n",
      "Epoch:  75 Train Accuracy:  1.0 Test Accuracy:  0.9804\n",
      "Epoch:  76 Train Accuracy:  1.0 Test Accuracy:  0.9809\n",
      "Epoch:  77 Train Accuracy:  1.0 Test Accuracy:  0.9806\n",
      "Epoch:  78 Train Accuracy:  1.0 Test Accuracy:  0.9807\n",
      "Epoch:  79 Train Accuracy:  1.0 Test Accuracy:  0.9799\n",
      "Epoch:  80 Train Accuracy:  1.0 Test Accuracy:  0.9803\n",
      "Epoch:  81 Train Accuracy:  1.0 Test Accuracy:  0.9798\n",
      "Epoch:  82 Train Accuracy:  1.0 Test Accuracy:  0.9803\n",
      "Epoch:  83 Train Accuracy:  1.0 Test Accuracy:  0.9803\n",
      "Epoch:  84 Train Accuracy:  1.0 Test Accuracy:  0.981\n",
      "Epoch:  85 Train Accuracy:  1.0 Test Accuracy:  0.9806\n",
      "Epoch:  86 Train Accuracy:  1.0 Test Accuracy:  0.9807\n",
      "Epoch:  87 Train Accuracy:  1.0 Test Accuracy:  0.98\n",
      "Epoch:  88 Train Accuracy:  1.0 Test Accuracy:  0.9804\n",
      "Epoch:  89 Train Accuracy:  1.0 Test Accuracy:  0.9806\n",
      "Epoch:  90 Train Accuracy:  1.0 Test Accuracy:  0.9809\n",
      "Epoch:  91 Train Accuracy:  1.0 Test Accuracy:  0.9804\n",
      "Epoch:  92 Train Accuracy:  1.0 Test Accuracy:  0.9796\n",
      "Epoch:  93 Train Accuracy:  1.0 Test Accuracy:  0.9812\n",
      "Epoch:  94 Train Accuracy:  1.0 Test Accuracy:  0.9809\n",
      "Epoch:  95 Train Accuracy:  1.0 Test Accuracy:  0.9802\n",
      "Epoch:  96 Train Accuracy:  1.0 Test Accuracy:  0.9802\n",
      "Epoch:  97 Train Accuracy:  1.0 Test Accuracy:  0.9799\n",
      "Epoch:  98 Train Accuracy:  1.0 Test Accuracy:  0.981\n",
      "Epoch:  99 Train Accuracy:  1.0 Test Accuracy:  0.9809\n",
      "Epoch:  100 Train Accuracy:  1.0 Test Accuracy:  0.9801\n",
      "Epoch:  101 Train Accuracy:  1.0 Test Accuracy:  0.9809\n",
      "Epoch:  102 Train Accuracy:  1.0 Test Accuracy:  0.9806\n",
      "Epoch:  103 Train Accuracy:  1.0 Test Accuracy:  0.9806\n",
      "Epoch:  104 Train Accuracy:  1.0 Test Accuracy:  0.9811\n",
      "Epoch:  105 Train Accuracy:  1.0 Test Accuracy:  0.9801\n",
      "Epoch:  106 Train Accuracy:  1.0 Test Accuracy:  0.9809\n",
      "Epoch:  107 Train Accuracy:  1.0 Test Accuracy:  0.9804\n",
      "Epoch:  108 Train Accuracy:  1.0 Test Accuracy:  0.9813\n",
      "Epoch:  109 Train Accuracy:  1.0 Test Accuracy:  0.9809\n",
      "Epoch:  110 Train Accuracy:  1.0 Test Accuracy:  0.9806\n",
      "Epoch:  111 Train Accuracy:  1.0 Test Accuracy:  0.98\n",
      "Epoch:  112 Train Accuracy:  1.0 Test Accuracy:  0.9806\n",
      "Epoch:  113 Train Accuracy:  1.0 Test Accuracy:  0.9808\n",
      "Epoch:  114 Train Accuracy:  1.0 Test Accuracy:  0.981\n",
      "Epoch:  115 Train Accuracy:  1.0 Test Accuracy:  0.981\n",
      "Epoch:  116 Train Accuracy:  1.0 Test Accuracy:  0.9815\n",
      "Epoch:  117 Train Accuracy:  1.0 Test Accuracy:  0.9812\n",
      "Epoch:  118 Train Accuracy:  1.0 Test Accuracy:  0.9808\n",
      "Epoch:  119 Train Accuracy:  1.0 Test Accuracy:  0.9808\n",
      "Epoch:  120 Train Accuracy:  1.0 Test Accuracy:  0.9809\n",
      "Epoch:  121 Train Accuracy:  1.0 Test Accuracy:  0.9813\n",
      "Epoch:  122 Train Accuracy:  1.0 Test Accuracy:  0.9806\n",
      "Epoch:  123 Train Accuracy:  1.0 Test Accuracy:  0.9807\n",
      "Epoch:  124 Train Accuracy:  1.0 Test Accuracy:  0.9812\n",
      "Epoch:  125 Train Accuracy:  1.0 Test Accuracy:  0.9808\n",
      "Epoch:  126 Train Accuracy:  1.0 Test Accuracy:  0.9807\n",
      "Epoch:  127 Train Accuracy:  1.0 Test Accuracy:  0.9813\n",
      "Epoch:  128 Train Accuracy:  1.0 Test Accuracy:  0.9807\n",
      "Epoch:  129 Train Accuracy:  1.0 Test Accuracy:  0.9808\n",
      "Epoch:  130 Train Accuracy:  1.0 Test Accuracy:  0.9807\n",
      "Epoch:  131 Train Accuracy:  1.0 Test Accuracy:  0.9809\n",
      "Epoch:  132 Train Accuracy:  1.0 Test Accuracy:  0.981\n",
      "Epoch:  133 Train Accuracy:  1.0 Test Accuracy:  0.9809\n",
      "Epoch:  134 Train Accuracy:  1.0 Test Accuracy:  0.9805\n",
      "Epoch:  135 Train Accuracy:  1.0 Test Accuracy:  0.9809\n",
      "Epoch:  136 Train Accuracy:  1.0 Test Accuracy:  0.981\n",
      "Epoch:  137 Train Accuracy:  1.0 Test Accuracy:  0.9809\n",
      "Epoch:  138 Train Accuracy:  1.0 Test Accuracy:  0.981\n",
      "Epoch:  139 Train Accuracy:  1.0 Test Accuracy:  0.9807\n",
      "Epoch:  140 Train Accuracy:  1.0 Test Accuracy:  0.9807\n",
      "Epoch:  141 Train Accuracy:  1.0 Test Accuracy:  0.9807\n",
      "Epoch:  142 Train Accuracy:  1.0 Test Accuracy:  0.9809\n",
      "Epoch:  143 Train Accuracy:  1.0 Test Accuracy:  0.9812\n",
      "Epoch:  144 Train Accuracy:  1.0 Test Accuracy:  0.9809\n",
      "Epoch:  145 Train Accuracy:  1.0 Test Accuracy:  0.9809\n",
      "Epoch:  146 Train Accuracy:  1.0 Test Accuracy:  0.981\n",
      "Epoch:  147 Train Accuracy:  1.0 Test Accuracy:  0.9806\n",
      "Epoch:  148 Train Accuracy:  1.0 Test Accuracy:  0.9812\n"
     ]
    },
    {
     "name": "stdout",
     "output_type": "stream",
     "text": [
      "Epoch:  149 Train Accuracy:  1.0 Test Accuracy:  0.9808\n",
      "Epoch:  150 Train Accuracy:  1.0 Test Accuracy:  0.9807\n",
      "Epoch:  151 Train Accuracy:  1.0 Test Accuracy:  0.9807\n",
      "Epoch:  152 Train Accuracy:  1.0 Test Accuracy:  0.9807\n",
      "Epoch:  153 Train Accuracy:  1.0 Test Accuracy:  0.9811\n",
      "Epoch:  154 Train Accuracy:  1.0 Test Accuracy:  0.9807\n",
      "Epoch:  155 Train Accuracy:  1.0 Test Accuracy:  0.9807\n",
      "Epoch:  156 Train Accuracy:  1.0 Test Accuracy:  0.9807\n",
      "Epoch:  157 Train Accuracy:  1.0 Test Accuracy:  0.981\n",
      "Epoch:  158 Train Accuracy:  1.0 Test Accuracy:  0.9809\n",
      "Epoch:  159 Train Accuracy:  1.0 Test Accuracy:  0.9806\n",
      "Epoch:  160 Train Accuracy:  1.0 Test Accuracy:  0.9809\n",
      "Epoch:  161 Train Accuracy:  1.0 Test Accuracy:  0.9805\n",
      "Epoch:  162 Train Accuracy:  1.0 Test Accuracy:  0.9808\n",
      "Epoch:  163 Train Accuracy:  1.0 Test Accuracy:  0.9806\n",
      "Epoch:  164 Train Accuracy:  1.0 Test Accuracy:  0.981\n",
      "Epoch:  165 Train Accuracy:  1.0 Test Accuracy:  0.9807\n",
      "Epoch:  166 Train Accuracy:  1.0 Test Accuracy:  0.9809\n",
      "Epoch:  167 Train Accuracy:  1.0 Test Accuracy:  0.9808\n",
      "Epoch:  168 Train Accuracy:  1.0 Test Accuracy:  0.9809\n",
      "Epoch:  169 Train Accuracy:  1.0 Test Accuracy:  0.9808\n",
      "Epoch:  170 Train Accuracy:  1.0 Test Accuracy:  0.9811\n",
      "Epoch:  171 Train Accuracy:  1.0 Test Accuracy:  0.9809\n",
      "Epoch:  172 Train Accuracy:  1.0 Test Accuracy:  0.9806\n",
      "Epoch:  173 Train Accuracy:  1.0 Test Accuracy:  0.9808\n",
      "Epoch:  174 Train Accuracy:  1.0 Test Accuracy:  0.9811\n",
      "Epoch:  175 Train Accuracy:  1.0 Test Accuracy:  0.9809\n",
      "Epoch:  176 Train Accuracy:  1.0 Test Accuracy:  0.9809\n",
      "Epoch:  177 Train Accuracy:  1.0 Test Accuracy:  0.9807\n",
      "Epoch:  178 Train Accuracy:  1.0 Test Accuracy:  0.9806\n",
      "Epoch:  179 Train Accuracy:  1.0 Test Accuracy:  0.9808\n",
      "Epoch:  180 Train Accuracy:  1.0 Test Accuracy:  0.9805\n",
      "Epoch:  181 Train Accuracy:  1.0 Test Accuracy:  0.9806\n",
      "Epoch:  182 Train Accuracy:  1.0 Test Accuracy:  0.9807\n",
      "Epoch:  183 Train Accuracy:  1.0 Test Accuracy:  0.9808\n",
      "Epoch:  184 Train Accuracy:  1.0 Test Accuracy:  0.981\n",
      "Epoch:  185 Train Accuracy:  1.0 Test Accuracy:  0.9808\n",
      "Epoch:  186 Train Accuracy:  1.0 Test Accuracy:  0.9808\n",
      "Epoch:  187 Train Accuracy:  1.0 Test Accuracy:  0.9806\n",
      "Epoch:  188 Train Accuracy:  1.0 Test Accuracy:  0.9808\n",
      "Epoch:  189 Train Accuracy:  1.0 Test Accuracy:  0.9807\n",
      "Epoch:  190 Train Accuracy:  1.0 Test Accuracy:  0.9808\n",
      "Epoch:  191 Train Accuracy:  1.0 Test Accuracy:  0.981\n",
      "Epoch:  192 Train Accuracy:  1.0 Test Accuracy:  0.9806\n",
      "Epoch:  193 Train Accuracy:  1.0 Test Accuracy:  0.9805\n",
      "Epoch:  194 Train Accuracy:  1.0 Test Accuracy:  0.9806\n",
      "Epoch:  195 Train Accuracy:  1.0 Test Accuracy:  0.9807\n",
      "Epoch:  196 Train Accuracy:  1.0 Test Accuracy:  0.9806\n",
      "Epoch:  197 Train Accuracy:  1.0 Test Accuracy:  0.9808\n",
      "Epoch:  198 Train Accuracy:  1.0 Test Accuracy:  0.981\n",
      "Epoch:  199 Train Accuracy:  1.0 Test Accuracy:  0.9808\n",
      "Epoch:  200 Train Accuracy:  1.0 Test Accuracy:  0.981\n",
      "Epoch:  201 Train Accuracy:  1.0 Test Accuracy:  0.9808\n",
      "Epoch:  202 Train Accuracy:  1.0 Test Accuracy:  0.981\n",
      "Epoch:  203 Train Accuracy:  1.0 Test Accuracy:  0.981\n",
      "Epoch:  204 Train Accuracy:  1.0 Test Accuracy:  0.9811\n",
      "Epoch:  205 Train Accuracy:  1.0 Test Accuracy:  0.981\n",
      "Epoch:  206 Train Accuracy:  1.0 Test Accuracy:  0.981\n",
      "Epoch:  207 Train Accuracy:  1.0 Test Accuracy:  0.9808\n",
      "Epoch:  208 Train Accuracy:  1.0 Test Accuracy:  0.9812\n",
      "Epoch:  209 Train Accuracy:  1.0 Test Accuracy:  0.9806\n",
      "Epoch:  210 Train Accuracy:  1.0 Test Accuracy:  0.9808\n",
      "Epoch:  211 Train Accuracy:  1.0 Test Accuracy:  0.9811\n",
      "Epoch:  212 Train Accuracy:  1.0 Test Accuracy:  0.9808\n",
      "Epoch:  213 Train Accuracy:  1.0 Test Accuracy:  0.981\n",
      "Epoch:  214 Train Accuracy:  1.0 Test Accuracy:  0.9809\n",
      "Epoch:  215 Train Accuracy:  1.0 Test Accuracy:  0.9813\n",
      "Epoch:  216 Train Accuracy:  1.0 Test Accuracy:  0.9809\n",
      "Epoch:  217 Train Accuracy:  1.0 Test Accuracy:  0.9809\n",
      "Epoch:  218 Train Accuracy:  1.0 Test Accuracy:  0.981\n",
      "Epoch:  219 Train Accuracy:  1.0 Test Accuracy:  0.981\n",
      "Epoch:  220 Train Accuracy:  1.0 Test Accuracy:  0.981\n",
      "Epoch:  221 Train Accuracy:  1.0 Test Accuracy:  0.9811\n",
      "Epoch:  222 Train Accuracy:  1.0 Test Accuracy:  0.9812\n",
      "Epoch:  223 Train Accuracy:  1.0 Test Accuracy:  0.9809\n",
      "Epoch:  224 Train Accuracy:  1.0 Test Accuracy:  0.9812\n",
      "Epoch:  225 Train Accuracy:  1.0 Test Accuracy:  0.981\n",
      "Epoch:  226 Train Accuracy:  1.0 Test Accuracy:  0.9809\n",
      "Epoch:  227 Train Accuracy:  1.0 Test Accuracy:  0.9808\n",
      "Epoch:  228 Train Accuracy:  1.0 Test Accuracy:  0.9809\n",
      "Epoch:  229 Train Accuracy:  1.0 Test Accuracy:  0.981\n",
      "Epoch:  230 Train Accuracy:  1.0 Test Accuracy:  0.9809\n",
      "Epoch:  231 Train Accuracy:  1.0 Test Accuracy:  0.9809\n",
      "Epoch:  232 Train Accuracy:  1.0 Test Accuracy:  0.9808\n",
      "Epoch:  233 Train Accuracy:  1.0 Test Accuracy:  0.981\n",
      "Epoch:  234 Train Accuracy:  1.0 Test Accuracy:  0.9808\n",
      "Epoch:  235 Train Accuracy:  1.0 Test Accuracy:  0.9809\n",
      "Epoch:  236 Train Accuracy:  1.0 Test Accuracy:  0.9809\n",
      "Epoch:  237 Train Accuracy:  1.0 Test Accuracy:  0.9812\n",
      "Epoch:  238 Train Accuracy:  1.0 Test Accuracy:  0.9809\n",
      "Epoch:  239 Train Accuracy:  1.0 Test Accuracy:  0.9811\n",
      "Epoch:  240 Train Accuracy:  1.0 Test Accuracy:  0.9811\n",
      "Epoch:  241 Train Accuracy:  1.0 Test Accuracy:  0.981\n",
      "Epoch:  242 Train Accuracy:  1.0 Test Accuracy:  0.9811\n",
      "Epoch:  243 Train Accuracy:  1.0 Test Accuracy:  0.9807\n",
      "Epoch:  244 Train Accuracy:  1.0 Test Accuracy:  0.981\n",
      "Epoch:  245 Train Accuracy:  1.0 Test Accuracy:  0.9811\n",
      "Epoch:  246 Train Accuracy:  1.0 Test Accuracy:  0.9809\n",
      "Epoch:  247 Train Accuracy:  1.0 Test Accuracy:  0.9813\n",
      "Epoch:  248 Train Accuracy:  1.0 Test Accuracy:  0.9813\n",
      "Epoch:  249 Train Accuracy:  1.0 Test Accuracy:  0.9808\n",
      "Epoch:  250 Train Accuracy:  1.0 Test Accuracy:  0.9813\n",
      "Epoch:  251 Train Accuracy:  1.0 Test Accuracy:  0.981\n",
      "Epoch:  252 Train Accuracy:  1.0 Test Accuracy:  0.9811\n",
      "Epoch:  253 Train Accuracy:  1.0 Test Accuracy:  0.981\n",
      "Epoch:  254 Train Accuracy:  1.0 Test Accuracy:  0.9813\n",
      "Epoch:  255 Train Accuracy:  1.0 Test Accuracy:  0.9809\n",
      "Epoch:  256 Train Accuracy:  1.0 Test Accuracy:  0.981\n",
      "Epoch:  257 Train Accuracy:  1.0 Test Accuracy:  0.9809\n",
      "Epoch:  258 Train Accuracy:  1.0 Test Accuracy:  0.9812\n",
      "Epoch:  259 Train Accuracy:  1.0 Test Accuracy:  0.981\n",
      "Epoch:  260 Train Accuracy:  1.0 Test Accuracy:  0.981\n",
      "Epoch:  261 Train Accuracy:  1.0 Test Accuracy:  0.9809\n",
      "Epoch:  262 Train Accuracy:  1.0 Test Accuracy:  0.9811\n",
      "Epoch:  263 Train Accuracy:  1.0 Test Accuracy:  0.981\n",
      "Epoch:  264 Train Accuracy:  1.0 Test Accuracy:  0.9811\n",
      "Epoch:  265 Train Accuracy:  1.0 Test Accuracy:  0.981\n",
      "Epoch:  266 Train Accuracy:  1.0 Test Accuracy:  0.9811\n",
      "Epoch:  267 Train Accuracy:  1.0 Test Accuracy:  0.9809\n",
      "Epoch:  268 Train Accuracy:  1.0 Test Accuracy:  0.9809\n",
      "Epoch:  269 Train Accuracy:  1.0 Test Accuracy:  0.981\n",
      "Epoch:  270 Train Accuracy:  1.0 Test Accuracy:  0.981\n",
      "Epoch:  271 Train Accuracy:  1.0 Test Accuracy:  0.9809\n",
      "Epoch:  272 Train Accuracy:  1.0 Test Accuracy:  0.9809\n",
      "Epoch:  273 Train Accuracy:  1.0 Test Accuracy:  0.9809\n",
      "Epoch:  274 Train Accuracy:  1.0 Test Accuracy:  0.9808\n",
      "Epoch:  275 Train Accuracy:  1.0 Test Accuracy:  0.9808\n",
      "Epoch:  276 Train Accuracy:  1.0 Test Accuracy:  0.981\n",
      "Epoch:  277 Train Accuracy:  1.0 Test Accuracy:  0.981\n",
      "Epoch:  278 Train Accuracy:  1.0 Test Accuracy:  0.981\n",
      "Epoch:  279 Train Accuracy:  1.0 Test Accuracy:  0.9809\n",
      "Epoch:  280 Train Accuracy:  1.0 Test Accuracy:  0.9809\n",
      "Epoch:  281 Train Accuracy:  1.0 Test Accuracy:  0.9813\n",
      "Epoch:  282 Train Accuracy:  1.0 Test Accuracy:  0.981\n",
      "Epoch:  283 Train Accuracy:  1.0 Test Accuracy:  0.981\n",
      "Epoch:  284 Train Accuracy:  1.0 Test Accuracy:  0.981\n",
      "Epoch:  285 Train Accuracy:  1.0 Test Accuracy:  0.9811\n",
      "Epoch:  286 Train Accuracy:  1.0 Test Accuracy:  0.9809\n",
      "Epoch:  287 Train Accuracy:  1.0 Test Accuracy:  0.981\n",
      "Epoch:  288 Train Accuracy:  1.0 Test Accuracy:  0.9808\n",
      "Epoch:  289 Train Accuracy:  1.0 Test Accuracy:  0.9809\n",
      "Epoch:  290 Train Accuracy:  1.0 Test Accuracy:  0.9811\n",
      "Epoch:  291 Train Accuracy:  1.0 Test Accuracy:  0.981\n",
      "Epoch:  292 Train Accuracy:  1.0 Test Accuracy:  0.9811\n",
      "Epoch:  293 Train Accuracy:  1.0 Test Accuracy:  0.9809\n",
      "Epoch:  294 Train Accuracy:  1.0 Test Accuracy:  0.981\n",
      "Epoch:  295 Train Accuracy:  1.0 Test Accuracy:  0.9809\n"
     ]
    },
    {
     "name": "stdout",
     "output_type": "stream",
     "text": [
      "Epoch:  296 Train Accuracy:  1.0 Test Accuracy:  0.9811\n",
      "Epoch:  297 Train Accuracy:  1.0 Test Accuracy:  0.9808\n",
      "Epoch:  298 Train Accuracy:  1.0 Test Accuracy:  0.9812\n",
      "Epoch:  299 Train Accuracy:  1.0 Test Accuracy:  0.9808\n",
      "Epoch:  300 Train Accuracy:  1.0 Test Accuracy:  0.9811\n",
      "Epoch:  301 Train Accuracy:  1.0 Test Accuracy:  0.9808\n",
      "Epoch:  302 Train Accuracy:  1.0 Test Accuracy:  0.981\n",
      "Epoch:  303 Train Accuracy:  1.0 Test Accuracy:  0.9808\n",
      "Epoch:  304 Train Accuracy:  1.0 Test Accuracy:  0.981\n",
      "Epoch:  305 Train Accuracy:  1.0 Test Accuracy:  0.981\n",
      "Epoch:  306 Train Accuracy:  1.0 Test Accuracy:  0.981\n",
      "Epoch:  307 Train Accuracy:  1.0 Test Accuracy:  0.981\n",
      "Epoch:  308 Train Accuracy:  1.0 Test Accuracy:  0.9812\n",
      "Epoch:  309 Train Accuracy:  1.0 Test Accuracy:  0.9811\n",
      "Epoch:  310 Train Accuracy:  1.0 Test Accuracy:  0.9809\n",
      "Epoch:  311 Train Accuracy:  1.0 Test Accuracy:  0.9808\n",
      "Epoch:  312 Train Accuracy:  1.0 Test Accuracy:  0.9809\n",
      "Epoch:  313 Train Accuracy:  1.0 Test Accuracy:  0.9808\n",
      "Epoch:  314 Train Accuracy:  1.0 Test Accuracy:  0.9808\n",
      "Epoch:  315 Train Accuracy:  1.0 Test Accuracy:  0.9811\n",
      "Epoch:  316 Train Accuracy:  1.0 Test Accuracy:  0.9809\n",
      "Epoch:  317 Train Accuracy:  1.0 Test Accuracy:  0.9809\n",
      "Epoch:  318 Train Accuracy:  1.0 Test Accuracy:  0.9811\n",
      "Epoch:  319 Train Accuracy:  1.0 Test Accuracy:  0.9809\n",
      "Epoch:  320 Train Accuracy:  1.0 Test Accuracy:  0.981\n",
      "Epoch:  321 Train Accuracy:  1.0 Test Accuracy:  0.9809\n",
      "Epoch:  322 Train Accuracy:  1.0 Test Accuracy:  0.981\n",
      "Epoch:  323 Train Accuracy:  1.0 Test Accuracy:  0.9808\n",
      "Epoch:  324 Train Accuracy:  1.0 Test Accuracy:  0.981\n",
      "Epoch:  325 Train Accuracy:  1.0 Test Accuracy:  0.9812\n",
      "Epoch:  326 Train Accuracy:  1.0 Test Accuracy:  0.9809\n",
      "Epoch:  327 Train Accuracy:  1.0 Test Accuracy:  0.9812\n",
      "Epoch:  328 Train Accuracy:  1.0 Test Accuracy:  0.9809\n",
      "Epoch:  329 Train Accuracy:  1.0 Test Accuracy:  0.9809\n",
      "Epoch:  330 Train Accuracy:  1.0 Test Accuracy:  0.9809\n",
      "Epoch:  331 Train Accuracy:  1.0 Test Accuracy:  0.9812\n",
      "Epoch:  332 Train Accuracy:  1.0 Test Accuracy:  0.9811\n",
      "Epoch:  333 Train Accuracy:  1.0 Test Accuracy:  0.981\n",
      "Epoch:  334 Train Accuracy:  1.0 Test Accuracy:  0.981\n",
      "Epoch:  335 Train Accuracy:  1.0 Test Accuracy:  0.981\n",
      "Epoch:  336 Train Accuracy:  1.0 Test Accuracy:  0.9812\n",
      "Epoch:  337 Train Accuracy:  1.0 Test Accuracy:  0.9808\n",
      "Epoch:  338 Train Accuracy:  1.0 Test Accuracy:  0.981\n",
      "Epoch:  339 Train Accuracy:  1.0 Test Accuracy:  0.9811\n",
      "Epoch:  340 Train Accuracy:  1.0 Test Accuracy:  0.981\n",
      "Epoch:  341 Train Accuracy:  1.0 Test Accuracy:  0.9809\n",
      "Epoch:  342 Train Accuracy:  1.0 Test Accuracy:  0.981\n",
      "Epoch:  343 Train Accuracy:  1.0 Test Accuracy:  0.9808\n",
      "Epoch:  344 Train Accuracy:  1.0 Test Accuracy:  0.9809\n",
      "Epoch:  345 Train Accuracy:  1.0 Test Accuracy:  0.9809\n",
      "Epoch:  346 Train Accuracy:  1.0 Test Accuracy:  0.9809\n",
      "Epoch:  347 Train Accuracy:  1.0 Test Accuracy:  0.9809\n",
      "Epoch:  348 Train Accuracy:  1.0 Test Accuracy:  0.9808\n",
      "Epoch:  349 Train Accuracy:  1.0 Test Accuracy:  0.9809\n",
      "Epoch:  350 Train Accuracy:  1.0 Test Accuracy:  0.9809\n",
      "Epoch:  351 Train Accuracy:  1.0 Test Accuracy:  0.9809\n",
      "Epoch:  352 Train Accuracy:  1.0 Test Accuracy:  0.9808\n",
      "Epoch:  353 Train Accuracy:  1.0 Test Accuracy:  0.9809\n",
      "Epoch:  354 Train Accuracy:  1.0 Test Accuracy:  0.981\n",
      "Epoch:  355 Train Accuracy:  1.0 Test Accuracy:  0.9809\n",
      "Epoch:  356 Train Accuracy:  1.0 Test Accuracy:  0.9809\n",
      "Epoch:  357 Train Accuracy:  1.0 Test Accuracy:  0.9809\n",
      "Epoch:  358 Train Accuracy:  1.0 Test Accuracy:  0.9811\n",
      "Epoch:  359 Train Accuracy:  1.0 Test Accuracy:  0.9807\n",
      "Epoch:  360 Train Accuracy:  1.0 Test Accuracy:  0.9809\n",
      "Epoch:  361 Train Accuracy:  1.0 Test Accuracy:  0.981\n",
      "Epoch:  362 Train Accuracy:  1.0 Test Accuracy:  0.9807\n",
      "Epoch:  363 Train Accuracy:  1.0 Test Accuracy:  0.9808\n",
      "Epoch:  364 Train Accuracy:  1.0 Test Accuracy:  0.981\n",
      "Epoch:  365 Train Accuracy:  1.0 Test Accuracy:  0.9809\n",
      "Epoch:  366 Train Accuracy:  1.0 Test Accuracy:  0.981\n",
      "Epoch:  367 Train Accuracy:  1.0 Test Accuracy:  0.981\n",
      "Epoch:  368 Train Accuracy:  1.0 Test Accuracy:  0.9809\n",
      "Epoch:  369 Train Accuracy:  1.0 Test Accuracy:  0.9809\n",
      "Epoch:  370 Train Accuracy:  1.0 Test Accuracy:  0.9809\n",
      "Epoch:  371 Train Accuracy:  1.0 Test Accuracy:  0.9808\n",
      "Epoch:  372 Train Accuracy:  1.0 Test Accuracy:  0.9808\n",
      "Epoch:  373 Train Accuracy:  1.0 Test Accuracy:  0.981\n",
      "Epoch:  374 Train Accuracy:  1.0 Test Accuracy:  0.9808\n",
      "Epoch:  375 Train Accuracy:  1.0 Test Accuracy:  0.9807\n",
      "Epoch:  376 Train Accuracy:  1.0 Test Accuracy:  0.9809\n",
      "Epoch:  377 Train Accuracy:  1.0 Test Accuracy:  0.9808\n",
      "Epoch:  378 Train Accuracy:  1.0 Test Accuracy:  0.9808\n",
      "Epoch:  379 Train Accuracy:  1.0 Test Accuracy:  0.9809\n",
      "Epoch:  380 Train Accuracy:  1.0 Test Accuracy:  0.9809\n",
      "Epoch:  381 Train Accuracy:  1.0 Test Accuracy:  0.9809\n",
      "Epoch:  382 Train Accuracy:  1.0 Test Accuracy:  0.9809\n",
      "Epoch:  383 Train Accuracy:  1.0 Test Accuracy:  0.9807\n",
      "Epoch:  384 Train Accuracy:  1.0 Test Accuracy:  0.9808\n",
      "Epoch:  385 Train Accuracy:  1.0 Test Accuracy:  0.9808\n",
      "Epoch:  386 Train Accuracy:  1.0 Test Accuracy:  0.9809\n",
      "Epoch:  387 Train Accuracy:  1.0 Test Accuracy:  0.9808\n",
      "Epoch:  388 Train Accuracy:  1.0 Test Accuracy:  0.9808\n",
      "Epoch:  389 Train Accuracy:  1.0 Test Accuracy:  0.9809\n",
      "Epoch:  390 Train Accuracy:  1.0 Test Accuracy:  0.9809\n",
      "Epoch:  391 Train Accuracy:  1.0 Test Accuracy:  0.9809\n",
      "Epoch:  392 Train Accuracy:  1.0 Test Accuracy:  0.981\n",
      "Epoch:  393 Train Accuracy:  1.0 Test Accuracy:  0.9809\n",
      "Epoch:  394 Train Accuracy:  1.0 Test Accuracy:  0.9809\n",
      "Epoch:  395 Train Accuracy:  1.0 Test Accuracy:  0.9809\n",
      "Epoch:  396 Train Accuracy:  1.0 Test Accuracy:  0.9809\n",
      "Epoch:  397 Train Accuracy:  1.0 Test Accuracy:  0.9809\n",
      "Epoch:  398 Train Accuracy:  1.0 Test Accuracy:  0.9809\n",
      "Epoch:  399 Train Accuracy:  1.0 Test Accuracy:  0.9809\n"
     ]
    }
   ],
   "source": [
    "with tf.Session() as sess:\n",
    "    init.run()\n",
    "    for epoch in range(n_epochs):\n",
    "        for X_batch, y_batch in shuffle_batch(X_train, y_train, batch_size):\n",
    "            sess.run(training_op, feed_dict={X: X_batch, y: y_batch})\n",
    "        acc_train= accuracy.eval(feed_dict= {X: X_batch, y: y_batch})\n",
    "        acc_test= accuracy.eval(feed_dict= {X: X_test, y: y_test})\n",
    "        \n",
    "        print(\"Epoch: \", epoch, \"Train Accuracy: \", acc_train, \"Test Accuracy: \", acc_test)\n",
    "        \n",
    "    save_path= saver.save(sess, \"./checkpoint/MNIST_model.ckpt\")"
   ]
  },
  {
   "cell_type": "code",
   "execution_count": 20,
   "metadata": {},
   "outputs": [
    {
     "name": "stdout",
     "output_type": "stream",
     "text": [
      "INFO:tensorflow:Restoring parameters from ./checkpoint/MNIST_model.ckpt\n",
      "[8]\n"
     ]
    }
   ],
   "source": [
    "with tf.Session() as sess:\n",
    "    saver.restore(sess, \"./checkpoint/MNIST_model.ckpt\")\n",
    "    X_new_scaled = X_test[619] # some new images (scaled from 0 to 1)\n",
    "    Z = logits.eval(feed_dict={X: X_new_scaled.reshape(-1,784)})\n",
    "    y_pred = np.argmax(Z, axis=1)\n",
    "    print(y_pred)"
   ]
  },
  {
   "cell_type": "markdown",
   "metadata": {},
   "source": [
    "### Ex 9"
   ]
  },
  {
   "cell_type": "code",
   "execution_count": 1,
   "metadata": {},
   "outputs": [],
   "source": [
    "import tensorflow as tf\n",
    "import numpy as np\n",
    "import matplotlib.pyplot as plt\n",
    "from datetime import datetime\n",
    "import os\n",
    "\n",
    "%matplotlib inline\n",
    "tf.reset_default_graph()\n",
    "tf.AUTO_REUSE \n",
    "\n",
    "os.chdir(\"C:/Users/soumyama/Documents/Python Scripts/Scikit Learn/\")"
   ]
  },
  {
   "cell_type": "code",
   "execution_count": 2,
   "metadata": {},
   "outputs": [],
   "source": [
    "(X_train, y_train), (X_test, y_test)= tf.keras.datasets.mnist.load_data()\n",
    "X_train= X_train.reshape(-1, 28*28).astype(np.float32)/255.\n",
    "X_test= X_test.reshape(-1, 28*28).astype(np.float32)/255.\n",
    "y_train= y_train.astype(np.int32)\n",
    "y_test= y_test.astype(np.int32)\n",
    "\n",
    "X_valid, y_valid= X_train[:5000], y_train[:5000]\n",
    "X_train, y_train= X_train[5000:], y_train[5000:]"
   ]
  },
  {
   "cell_type": "code",
   "execution_count": 3,
   "metadata": {},
   "outputs": [],
   "source": [
    "n_inputs= 28*28\n",
    "n_hidden1=300\n",
    "n_hidden2=100\n",
    "n_outputs=10\n",
    "lr=0.01\n",
    "n_epochs=1000\n",
    "batch_size=50"
   ]
  },
  {
   "cell_type": "code",
   "execution_count": 4,
   "metadata": {},
   "outputs": [],
   "source": [
    "X= tf.placeholder(tf.float32, shape=(None, n_inputs), name=\"X\")\n",
    "y= tf.placeholder(tf.int32, shape=(None), name=\"y\")"
   ]
  },
  {
   "cell_type": "code",
   "execution_count": 5,
   "metadata": {},
   "outputs": [],
   "source": [
    "with tf.name_scope(\"dnn\"):\n",
    "    hidden1= tf.layers.dense(X, n_hidden1, activation= tf.nn.relu, name=\"hidden1\")\n",
    "    hidden2= tf.layers.dense(hidden1, n_hidden2, activation= tf.nn.relu, name=\"hidden2\")\n",
    "    logits= tf.layers.dense(hidden2, n_outputs, name=\"output\")"
   ]
  },
  {
   "cell_type": "code",
   "execution_count": 6,
   "metadata": {},
   "outputs": [],
   "source": [
    "with tf.name_scope(\"loss\"):\n",
    "    xentropy= tf.nn.sparse_softmax_cross_entropy_with_logits(labels=y, logits=logits)\n",
    "    loss= tf.reduce_mean(xentropy, name=\"loss\")\n",
    "    loss_summary =tf.summary.scalar('log_loss', loss)"
   ]
  },
  {
   "cell_type": "code",
   "execution_count": 7,
   "metadata": {},
   "outputs": [],
   "source": [
    "with tf.name_scope(\"train\"):\n",
    "    optimizer= tf.train.GradientDescentOptimizer(lr)\n",
    "    train_op= optimizer.minimize(loss)"
   ]
  },
  {
   "cell_type": "code",
   "execution_count": 8,
   "metadata": {},
   "outputs": [],
   "source": [
    "with tf.name_scope(\"eval\"):\n",
    "    correct=tf.nn.in_top_k(logits, y, 1)\n",
    "    accuracy= tf.reduce_mean(tf.cast(correct, tf.float32))\n",
    "    accuracy_summary= tf.summary.scalar('accuracy', accuracy)"
   ]
  },
  {
   "cell_type": "code",
   "execution_count": 9,
   "metadata": {},
   "outputs": [],
   "source": [
    "init= tf.global_variables_initializer()\n",
    "saver= tf.train.Saver()"
   ]
  },
  {
   "cell_type": "code",
   "execution_count": 10,
   "metadata": {},
   "outputs": [],
   "source": [
    "def log_dir(prefix=\"\"):\n",
    "    now= datetime.utcnow().strftime(\"%Y%M%D%H%M%S\")\n",
    "    root_logdir= \"C:/Users/soumyama/Documents/Python Scripts/Scikit Learn/tf_logs\"\n",
    "    if prefix:\n",
    "        prefix +=\"-\"\n",
    "    name= prefix + \"run-\" + now\n",
    "    return \"{}/{}/\".format(root_logdir, name)"
   ]
  },
  {
   "cell_type": "code",
   "execution_count": 11,
   "metadata": {},
   "outputs": [],
   "source": [
    "logdir= log_dir(\"MNIST_dnn\")"
   ]
  },
  {
   "cell_type": "code",
   "execution_count": 12,
   "metadata": {},
   "outputs": [],
   "source": [
    "# Write  tf logs\n",
    "\n",
    "file_writer= tf.summary.FileWriter(logdir, tf.get_default_graph())"
   ]
  },
  {
   "cell_type": "code",
   "execution_count": 13,
   "metadata": {},
   "outputs": [],
   "source": [
    "m,n= X_train.shape"
   ]
  },
  {
   "cell_type": "code",
   "execution_count": 14,
   "metadata": {},
   "outputs": [],
   "source": [
    "n_batches= int(np.ceil(m / batch_size))\n",
    "\n",
    "def shuffle_batch(X, y, batch_size):\n",
    "    rnd_idx = np.random.permutation(len(X))\n",
    "    n_batches = len(X) // batch_size\n",
    "    for batch_idx in np.array_split(rnd_idx, n_batches):\n",
    "        X_batch, y_batch = X[batch_idx], y[batch_idx]\n",
    "        yield X_batch, y_batch\n",
    "\n",
    "checkpoint_path= \"C:/Users/soumyama/Documents/Python Scripts/Scikit Learn/checkpoint/deep_mnist_model.ckpt\"\n",
    "checkpoint_epoch_path= checkpoint_path + \".epoch\"\n",
    "final_model_path= \"./deep_mnist_model/\" "
   ]
  },
  {
   "cell_type": "code",
   "execution_count": 15,
   "metadata": {},
   "outputs": [],
   "source": [
    "best_loss= np.infty\n",
    "epochs_without_progress= 0\n",
    "max_epochs_without_progress=50"
   ]
  },
  {
   "cell_type": "code",
   "execution_count": 16,
   "metadata": {},
   "outputs": [
    {
     "name": "stdout",
     "output_type": "stream",
     "text": [
      "Epoch:  0 \tValidation Accuracy: 90.420% \tValidation Loss: 0.357\n",
      "Epoch:  5 \tValidation Accuracy: 95.100% \tValidation Loss: 0.180\n",
      "Epoch:  10 \tValidation Accuracy: 96.400% \tValidation Loss: 0.132\n",
      "Epoch:  15 \tValidation Accuracy: 97.000% \tValidation Loss: 0.109\n",
      "Epoch:  20 \tValidation Accuracy: 97.380% \tValidation Loss: 0.092\n",
      "Epoch:  25 \tValidation Accuracy: 97.640% \tValidation Loss: 0.085\n",
      "Epoch:  30 \tValidation Accuracy: 97.840% \tValidation Loss: 0.076\n",
      "Epoch:  35 \tValidation Accuracy: 98.020% \tValidation Loss: 0.072\n",
      "Epoch:  40 \tValidation Accuracy: 98.120% \tValidation Loss: 0.069\n",
      "Epoch:  45 \tValidation Accuracy: 98.180% \tValidation Loss: 0.068\n",
      "Epoch:  50 \tValidation Accuracy: 98.220% \tValidation Loss: 0.067\n",
      "Epoch:  55 \tValidation Accuracy: 98.140% \tValidation Loss: 0.067\n",
      "Epoch:  60 \tValidation Accuracy: 98.200% \tValidation Loss: 0.066\n",
      "Epoch:  65 \tValidation Accuracy: 98.220% \tValidation Loss: 0.067\n",
      "Epoch:  70 \tValidation Accuracy: 98.180% \tValidation Loss: 0.067\n",
      "Epoch:  75 \tValidation Accuracy: 98.260% \tValidation Loss: 0.067\n",
      "Epoch:  80 \tValidation Accuracy: 98.220% \tValidation Loss: 0.068\n",
      "Epoch:  85 \tValidation Accuracy: 98.180% \tValidation Loss: 0.069\n",
      "Epoch:  90 \tValidation Accuracy: 98.220% \tValidation Loss: 0.069\n",
      "Epoch:  95 \tValidation Accuracy: 98.240% \tValidation Loss: 0.069\n",
      "Epoch:  100 \tValidation Accuracy: 98.260% \tValidation Loss: 0.070\n",
      "Epoch:  105 \tValidation Accuracy: 98.200% \tValidation Loss: 0.070\n",
      "Epoch:  110 \tValidation Accuracy: 98.240% \tValidation Loss: 0.072\n",
      "Early Stopping\n"
     ]
    }
   ],
   "source": [
    "with tf.Session() as sess:\n",
    "    if os.path.isfile(checkpoint_epoch_path):\n",
    "        with open(checkpoint_epoch_path, \"rb\") as f:\n",
    "            start_epoch= int(f.read())\n",
    "        print(\"Training was interrupted. Continuing at epoch\", start_epoch)\n",
    "        saver.restore(sess, checkpoint_path)\n",
    "    else:\n",
    "        start_epoch=0\n",
    "        sess.run(init)\n",
    "        \n",
    "    for epochs in range(start_epoch, n_epochs):\n",
    "        for X_batch, y_batch in shuffle_batch(X_train, y_train, batch_size):\n",
    "            sess.run(train_op, feed_dict= {X: X_batch, y: y_batch})\n",
    "        accuracy_val, loss_val, accuracy_summary_str, loss_summary_str= sess.run([accuracy, \n",
    "                                                                                  loss, accuracy_summary, loss_summary], \n",
    "                                                                                 feed_dict= {X: X_valid, y: y_valid})\n",
    "        file_writer.add_summary(accuracy_summary_str, epochs)\n",
    "        file_writer.add_summary(loss_summary_str, epochs)\n",
    "        if epochs % 5 == 0:\n",
    "            print(\"Epoch: \", epochs, \"\\tValidation Accuracy: {:.3f}%\".format(accuracy_val*100),\n",
    "                 \"\\tValidation Loss: {:.3f}\".format(loss_val))\n",
    "            saver.save(sess, checkpoint_path)\n",
    "            with open(checkpoint_epoch_path, \"wb\") as f:\n",
    "                f.write(b\"%d\" % (epochs+1))\n",
    "            if loss_val < best_loss:\n",
    "                saver.save(sess, final_model_path)\n",
    "                best_loss= loss_val\n",
    "            else:\n",
    "                epochs_without_progress +=5\n",
    "                if epochs_without_progress > max_epochs_without_progress:\n",
    "                    print(\"Early Stopping\")\n",
    "                    break"
   ]
  },
  {
   "cell_type": "markdown",
   "metadata": {},
   "source": [
    "![png](https://user-images.githubusercontent.com/13174586/54521455-f9686f00-4990-11e9-9990-7ac4b69d1d7b.png)\n"
   ]
  },
  {
   "cell_type": "code",
   "execution_count": null,
   "metadata": {},
   "outputs": [],
   "source": []
  }
 ],
 "metadata": {
  "kernelspec": {
   "display_name": "Python 3",
   "language": "python",
   "name": "python3"
  },
  "language_info": {
   "codemirror_mode": {
    "name": "ipython",
    "version": 3
   },
   "file_extension": ".py",
   "mimetype": "text/x-python",
   "name": "python",
   "nbconvert_exporter": "python",
   "pygments_lexer": "ipython3",
   "version": "3.6.6"
  }
 },
 "nbformat": 4,
 "nbformat_minor": 2
}
