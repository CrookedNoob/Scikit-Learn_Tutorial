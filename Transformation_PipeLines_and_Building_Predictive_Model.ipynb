{
 "cells": [
  {
   "cell_type": "code",
   "execution_count": 1,
   "metadata": {},
   "outputs": [],
   "source": [
    "from __future__ import print_function, division, unicode_literals\n",
    "import pandas as pd\n",
    "import numpy as np\n",
    "import os"
   ]
  },
  {
   "cell_type": "code",
   "execution_count": 2,
   "metadata": {},
   "outputs": [],
   "source": [
    "#Load CSV \n",
    "def load_housing_data():\n",
    "    csv_path= os.path.join(\"housing.csv\")\n",
    "    return pd.read_csv(csv_path)"
   ]
  },
  {
   "cell_type": "code",
   "execution_count": 141,
   "metadata": {},
   "outputs": [
    {
     "data": {
      "text/html": [
       "<div>\n",
       "<style scoped>\n",
       "    .dataframe tbody tr th:only-of-type {\n",
       "        vertical-align: middle;\n",
       "    }\n",
       "\n",
       "    .dataframe tbody tr th {\n",
       "        vertical-align: top;\n",
       "    }\n",
       "\n",
       "    .dataframe thead th {\n",
       "        text-align: right;\n",
       "    }\n",
       "</style>\n",
       "<table border=\"1\" class=\"dataframe\">\n",
       "  <thead>\n",
       "    <tr style=\"text-align: right;\">\n",
       "      <th></th>\n",
       "      <th>longitude</th>\n",
       "      <th>latitude</th>\n",
       "      <th>housing_median_age</th>\n",
       "      <th>total_rooms</th>\n",
       "      <th>total_bedrooms</th>\n",
       "      <th>population</th>\n",
       "      <th>households</th>\n",
       "      <th>median_income</th>\n",
       "      <th>median_house_value</th>\n",
       "      <th>ocean_proximity</th>\n",
       "    </tr>\n",
       "  </thead>\n",
       "  <tbody>\n",
       "    <tr>\n",
       "      <th>0</th>\n",
       "      <td>-122.23</td>\n",
       "      <td>37.88</td>\n",
       "      <td>41</td>\n",
       "      <td>880</td>\n",
       "      <td>129.0</td>\n",
       "      <td>322</td>\n",
       "      <td>126</td>\n",
       "      <td>8.3252</td>\n",
       "      <td>452600</td>\n",
       "      <td>NEAR BAY</td>\n",
       "    </tr>\n",
       "    <tr>\n",
       "      <th>1</th>\n",
       "      <td>-122.22</td>\n",
       "      <td>37.86</td>\n",
       "      <td>21</td>\n",
       "      <td>7099</td>\n",
       "      <td>1106.0</td>\n",
       "      <td>2401</td>\n",
       "      <td>1138</td>\n",
       "      <td>8.3014</td>\n",
       "      <td>358500</td>\n",
       "      <td>NEAR BAY</td>\n",
       "    </tr>\n",
       "    <tr>\n",
       "      <th>2</th>\n",
       "      <td>-122.24</td>\n",
       "      <td>37.85</td>\n",
       "      <td>52</td>\n",
       "      <td>1467</td>\n",
       "      <td>190.0</td>\n",
       "      <td>496</td>\n",
       "      <td>177</td>\n",
       "      <td>7.2574</td>\n",
       "      <td>352100</td>\n",
       "      <td>NEAR BAY</td>\n",
       "    </tr>\n",
       "    <tr>\n",
       "      <th>3</th>\n",
       "      <td>-122.25</td>\n",
       "      <td>37.85</td>\n",
       "      <td>52</td>\n",
       "      <td>1274</td>\n",
       "      <td>235.0</td>\n",
       "      <td>558</td>\n",
       "      <td>219</td>\n",
       "      <td>5.6431</td>\n",
       "      <td>341300</td>\n",
       "      <td>NEAR BAY</td>\n",
       "    </tr>\n",
       "    <tr>\n",
       "      <th>4</th>\n",
       "      <td>-122.25</td>\n",
       "      <td>37.85</td>\n",
       "      <td>52</td>\n",
       "      <td>1627</td>\n",
       "      <td>280.0</td>\n",
       "      <td>565</td>\n",
       "      <td>259</td>\n",
       "      <td>3.8462</td>\n",
       "      <td>342200</td>\n",
       "      <td>NEAR BAY</td>\n",
       "    </tr>\n",
       "  </tbody>\n",
       "</table>\n",
       "</div>"
      ],
      "text/plain": [
       "   longitude  latitude  housing_median_age  total_rooms  total_bedrooms  \\\n",
       "0    -122.23     37.88                  41          880           129.0   \n",
       "1    -122.22     37.86                  21         7099          1106.0   \n",
       "2    -122.24     37.85                  52         1467           190.0   \n",
       "3    -122.25     37.85                  52         1274           235.0   \n",
       "4    -122.25     37.85                  52         1627           280.0   \n",
       "\n",
       "   population  households  median_income  median_house_value ocean_proximity  \n",
       "0         322         126         8.3252              452600        NEAR BAY  \n",
       "1        2401        1138         8.3014              358500        NEAR BAY  \n",
       "2         496         177         7.2574              352100        NEAR BAY  \n",
       "3         558         219         5.6431              341300        NEAR BAY  \n",
       "4         565         259         3.8462              342200        NEAR BAY  "
      ]
     },
     "execution_count": 141,
     "metadata": {},
     "output_type": "execute_result"
    }
   ],
   "source": [
    "housing= load_housing_data()\n",
    "housing.head()"
   ]
  },
  {
   "cell_type": "code",
   "execution_count": 142,
   "metadata": {},
   "outputs": [
    {
     "name": "stdout",
     "output_type": "stream",
     "text": [
      "3.0    0.350533\n",
      "2.0    0.318798\n",
      "4.0    0.176357\n",
      "5.0    0.114583\n",
      "1.0    0.039729\n",
      "Name: income_cat, dtype: float64\n",
      "3.0    0.350594\n",
      "2.0    0.318859\n",
      "4.0    0.176296\n",
      "5.0    0.114402\n",
      "1.0    0.039850\n",
      "Name: income_cat, dtype: float64\n",
      "3.0    0.350581\n",
      "2.0    0.318847\n",
      "4.0    0.176308\n",
      "5.0    0.114438\n",
      "1.0    0.039826\n",
      "Name: income_cat, dtype: float64\n"
     ]
    },
    {
     "data": {
      "text/html": [
       "<div>\n",
       "<style scoped>\n",
       "    .dataframe tbody tr th:only-of-type {\n",
       "        vertical-align: middle;\n",
       "    }\n",
       "\n",
       "    .dataframe tbody tr th {\n",
       "        vertical-align: top;\n",
       "    }\n",
       "\n",
       "    .dataframe thead th {\n",
       "        text-align: right;\n",
       "    }\n",
       "</style>\n",
       "<table border=\"1\" class=\"dataframe\">\n",
       "  <thead>\n",
       "    <tr style=\"text-align: right;\">\n",
       "      <th></th>\n",
       "      <th>longitude</th>\n",
       "      <th>latitude</th>\n",
       "      <th>housing_median_age</th>\n",
       "      <th>total_rooms</th>\n",
       "      <th>total_bedrooms</th>\n",
       "      <th>population</th>\n",
       "      <th>households</th>\n",
       "      <th>median_income</th>\n",
       "      <th>ocean_proximity</th>\n",
       "    </tr>\n",
       "  </thead>\n",
       "  <tbody>\n",
       "    <tr>\n",
       "      <th>10888</th>\n",
       "      <td>-117.90</td>\n",
       "      <td>33.70</td>\n",
       "      <td>12</td>\n",
       "      <td>4695</td>\n",
       "      <td>1110.0</td>\n",
       "      <td>2153</td>\n",
       "      <td>989</td>\n",
       "      <td>4.6483</td>\n",
       "      <td>&lt;1H OCEAN</td>\n",
       "    </tr>\n",
       "    <tr>\n",
       "      <th>2092</th>\n",
       "      <td>-119.78</td>\n",
       "      <td>36.75</td>\n",
       "      <td>43</td>\n",
       "      <td>2070</td>\n",
       "      <td>512.0</td>\n",
       "      <td>1925</td>\n",
       "      <td>444</td>\n",
       "      <td>1.4635</td>\n",
       "      <td>INLAND</td>\n",
       "    </tr>\n",
       "    <tr>\n",
       "      <th>18810</th>\n",
       "      <td>-121.67</td>\n",
       "      <td>40.89</td>\n",
       "      <td>17</td>\n",
       "      <td>2548</td>\n",
       "      <td>537.0</td>\n",
       "      <td>1118</td>\n",
       "      <td>461</td>\n",
       "      <td>2.2670</td>\n",
       "      <td>INLAND</td>\n",
       "    </tr>\n",
       "    <tr>\n",
       "      <th>6905</th>\n",
       "      <td>-118.11</td>\n",
       "      <td>34.03</td>\n",
       "      <td>36</td>\n",
       "      <td>1493</td>\n",
       "      <td>316.0</td>\n",
       "      <td>989</td>\n",
       "      <td>293</td>\n",
       "      <td>3.5272</td>\n",
       "      <td>&lt;1H OCEAN</td>\n",
       "    </tr>\n",
       "    <tr>\n",
       "      <th>10102</th>\n",
       "      <td>-117.97</td>\n",
       "      <td>33.93</td>\n",
       "      <td>35</td>\n",
       "      <td>1887</td>\n",
       "      <td>328.0</td>\n",
       "      <td>989</td>\n",
       "      <td>351</td>\n",
       "      <td>4.1321</td>\n",
       "      <td>&lt;1H OCEAN</td>\n",
       "    </tr>\n",
       "  </tbody>\n",
       "</table>\n",
       "</div>"
      ],
      "text/plain": [
       "       longitude  latitude  housing_median_age  total_rooms  total_bedrooms  \\\n",
       "10888    -117.90     33.70                  12         4695          1110.0   \n",
       "2092     -119.78     36.75                  43         2070           512.0   \n",
       "18810    -121.67     40.89                  17         2548           537.0   \n",
       "6905     -118.11     34.03                  36         1493           316.0   \n",
       "10102    -117.97     33.93                  35         1887           328.0   \n",
       "\n",
       "       population  households  median_income ocean_proximity  \n",
       "10888        2153         989         4.6483       <1H OCEAN  \n",
       "2092         1925         444         1.4635          INLAND  \n",
       "18810        1118         461         2.2670          INLAND  \n",
       "6905          989         293         3.5272       <1H OCEAN  \n",
       "10102         989         351         4.1321       <1H OCEAN  "
      ]
     },
     "execution_count": 142,
     "metadata": {},
     "output_type": "execute_result"
    }
   ],
   "source": [
    "#Divide by 1.5 to limit the number of income categories\n",
    "housing[\"income_cat\"]= np.ceil(housing[\"median_income\"]/1.5)\n",
    "housing[\"income_cat\"].where(housing[\"income_cat\"]<5,5.0, inplace=True)\n",
    "housing[\"income_cat\"].value_counts()\n",
    "\n",
    "\n",
    "from sklearn.model_selection import StratifiedShuffleSplit\n",
    "\n",
    "split = StratifiedShuffleSplit(n_splits=1, test_size=0.2, random_state=123)\n",
    "for train_index, test_index in split.split(housing, housing[\"income_cat\"]):\n",
    "    strat_train_set= housing.loc[train_index]\n",
    "    strat_test_set= housing.loc[test_index]\n",
    "\n",
    "\n",
    "print(strat_test_set[\"income_cat\"].value_counts()/len(strat_test_set))\n",
    "print(strat_train_set[\"income_cat\"].value_counts()/len(strat_train_set))\n",
    "print(housing[\"income_cat\"].value_counts()/len(housing))\n",
    "\n",
    "#Ratio of split looks good enough to proceed\n",
    "\n",
    "\n",
    "#Dropping Income_cat\n",
    "for set_ in (strat_train_set, strat_test_set):\n",
    "    set_.drop(\"income_cat\", axis=1, inplace=True)\n",
    "    \n",
    "strat_train_label= strat_train_set[\"median_house_value\"]\n",
    "strat_train_set.drop(\"median_house_value\", axis=1, inplace=True)\n",
    "\n",
    "strat_train_label.head()\n",
    "strat_train_set.head()"
   ]
  },
  {
   "cell_type": "code",
   "execution_count": 143,
   "metadata": {},
   "outputs": [
    {
     "data": {
      "text/html": [
       "<div>\n",
       "<style scoped>\n",
       "    .dataframe tbody tr th:only-of-type {\n",
       "        vertical-align: middle;\n",
       "    }\n",
       "\n",
       "    .dataframe tbody tr th {\n",
       "        vertical-align: top;\n",
       "    }\n",
       "\n",
       "    .dataframe thead th {\n",
       "        text-align: right;\n",
       "    }\n",
       "</style>\n",
       "<table border=\"1\" class=\"dataframe\">\n",
       "  <thead>\n",
       "    <tr style=\"text-align: right;\">\n",
       "      <th></th>\n",
       "      <th>longitude</th>\n",
       "      <th>latitude</th>\n",
       "      <th>housing_median_age</th>\n",
       "      <th>total_rooms</th>\n",
       "      <th>total_bedrooms</th>\n",
       "      <th>population</th>\n",
       "      <th>households</th>\n",
       "      <th>median_income</th>\n",
       "    </tr>\n",
       "  </thead>\n",
       "  <tbody>\n",
       "    <tr>\n",
       "      <th>10888</th>\n",
       "      <td>-117.90</td>\n",
       "      <td>33.70</td>\n",
       "      <td>12</td>\n",
       "      <td>4695</td>\n",
       "      <td>1110.0</td>\n",
       "      <td>2153</td>\n",
       "      <td>989</td>\n",
       "      <td>4.6483</td>\n",
       "    </tr>\n",
       "    <tr>\n",
       "      <th>2092</th>\n",
       "      <td>-119.78</td>\n",
       "      <td>36.75</td>\n",
       "      <td>43</td>\n",
       "      <td>2070</td>\n",
       "      <td>512.0</td>\n",
       "      <td>1925</td>\n",
       "      <td>444</td>\n",
       "      <td>1.4635</td>\n",
       "    </tr>\n",
       "    <tr>\n",
       "      <th>18810</th>\n",
       "      <td>-121.67</td>\n",
       "      <td>40.89</td>\n",
       "      <td>17</td>\n",
       "      <td>2548</td>\n",
       "      <td>537.0</td>\n",
       "      <td>1118</td>\n",
       "      <td>461</td>\n",
       "      <td>2.2670</td>\n",
       "    </tr>\n",
       "    <tr>\n",
       "      <th>6905</th>\n",
       "      <td>-118.11</td>\n",
       "      <td>34.03</td>\n",
       "      <td>36</td>\n",
       "      <td>1493</td>\n",
       "      <td>316.0</td>\n",
       "      <td>989</td>\n",
       "      <td>293</td>\n",
       "      <td>3.5272</td>\n",
       "    </tr>\n",
       "    <tr>\n",
       "      <th>10102</th>\n",
       "      <td>-117.97</td>\n",
       "      <td>33.93</td>\n",
       "      <td>35</td>\n",
       "      <td>1887</td>\n",
       "      <td>328.0</td>\n",
       "      <td>989</td>\n",
       "      <td>351</td>\n",
       "      <td>4.1321</td>\n",
       "    </tr>\n",
       "  </tbody>\n",
       "</table>\n",
       "</div>"
      ],
      "text/plain": [
       "       longitude  latitude  housing_median_age  total_rooms  total_bedrooms  \\\n",
       "10888    -117.90     33.70                  12         4695          1110.0   \n",
       "2092     -119.78     36.75                  43         2070           512.0   \n",
       "18810    -121.67     40.89                  17         2548           537.0   \n",
       "6905     -118.11     34.03                  36         1493           316.0   \n",
       "10102    -117.97     33.93                  35         1887           328.0   \n",
       "\n",
       "       population  households  median_income  \n",
       "10888        2153         989         4.6483  \n",
       "2092         1925         444         1.4635  \n",
       "18810        1118         461         2.2670  \n",
       "6905          989         293         3.5272  \n",
       "10102         989         351         4.1321  "
      ]
     },
     "execution_count": 143,
     "metadata": {},
     "output_type": "execute_result"
    }
   ],
   "source": [
    "housing= strat_train_set.copy()\n",
    "housing_num =housing.drop(\"ocean_proximity\", axis=1)\n",
    "housing_num.head()"
   ]
  },
  {
   "cell_type": "code",
   "execution_count": 144,
   "metadata": {},
   "outputs": [],
   "source": [
    "#Custom Transformer\n",
    "\n",
    "from sklearn.base import BaseEstimator, TransformerMixin\n",
    "\n",
    "rooms_ix, bedrooms_ix, population_ix, household_ix= 3,4,5,6\n",
    "\n",
    "class CombinedAttributesAdder(BaseEstimator, TransformerMixin):\n",
    "    def __init__(self, add_bedrooms_per_room=True):\n",
    "        self.add_bedrooms_per_room= add_bedrooms_per_room\n",
    "    def fit(self, X, y=None):\n",
    "        return self\n",
    "    def transform(self, X, Y=None):\n",
    "        rooms_per_household= X[:,rooms_ix]/X[:,household_ix]\n",
    "        population_per_household=X[:,population_ix]/X[:,household_ix]\n",
    "        if self.add_bedrooms_per_room:\n",
    "            bedrooms_per_room= X[:, bedrooms_ix]/X[:,rooms_ix]\n",
    "            return np.c_[X, rooms_per_household, population_per_household, bedrooms_per_room]\n",
    "        else:\n",
    "            return np.c_[X, rooms_per_household, population_per_household]"
   ]
  },
  {
   "cell_type": "code",
   "execution_count": 145,
   "metadata": {},
   "outputs": [],
   "source": [
    "attr_adder= CombinedAttributesAdder(add_bedrooms_per_room=False)\n",
    "housing_extra_attribs= attr_adder.transform(housing.values)"
   ]
  },
  {
   "cell_type": "code",
   "execution_count": 146,
   "metadata": {},
   "outputs": [],
   "source": [
    "#Transformation Pipeline\n",
    "\n",
    "from sklearn.pipeline import Pipeline\n",
    "from sklearn.preprocessing import StandardScaler, Imputer, LabelBinarizer\n",
    "\n",
    "num_pipeline= Pipeline([\n",
    "    ('imputer', Imputer(strategy='median')),\n",
    "    ('attribs_adder', CombinedAttributesAdder()),\n",
    "    ('std_scaler', StandardScaler())\n",
    "])"
   ]
  },
  {
   "cell_type": "code",
   "execution_count": 148,
   "metadata": {},
   "outputs": [
    {
     "data": {
      "text/html": [
       "<div>\n",
       "<style scoped>\n",
       "    .dataframe tbody tr th:only-of-type {\n",
       "        vertical-align: middle;\n",
       "    }\n",
       "\n",
       "    .dataframe tbody tr th {\n",
       "        vertical-align: top;\n",
       "    }\n",
       "\n",
       "    .dataframe thead th {\n",
       "        text-align: right;\n",
       "    }\n",
       "</style>\n",
       "<table border=\"1\" class=\"dataframe\">\n",
       "  <thead>\n",
       "    <tr style=\"text-align: right;\">\n",
       "      <th></th>\n",
       "      <th>longitude</th>\n",
       "      <th>latitude</th>\n",
       "      <th>housing_median_age</th>\n",
       "      <th>total_rooms</th>\n",
       "      <th>total_bedrooms</th>\n",
       "      <th>population</th>\n",
       "      <th>households</th>\n",
       "      <th>median_income</th>\n",
       "      <th>ocean_proximity</th>\n",
       "      <th>rooms_per_household</th>\n",
       "      <th>population_per_household</th>\n",
       "    </tr>\n",
       "  </thead>\n",
       "  <tbody>\n",
       "    <tr>\n",
       "      <th>0</th>\n",
       "      <td>-117.9</td>\n",
       "      <td>33.7</td>\n",
       "      <td>12</td>\n",
       "      <td>4695</td>\n",
       "      <td>1110</td>\n",
       "      <td>2153</td>\n",
       "      <td>989</td>\n",
       "      <td>4.6483</td>\n",
       "      <td>&lt;1H OCEAN</td>\n",
       "      <td>4.74722</td>\n",
       "      <td>2.17695</td>\n",
       "    </tr>\n",
       "    <tr>\n",
       "      <th>1</th>\n",
       "      <td>-119.78</td>\n",
       "      <td>36.75</td>\n",
       "      <td>43</td>\n",
       "      <td>2070</td>\n",
       "      <td>512</td>\n",
       "      <td>1925</td>\n",
       "      <td>444</td>\n",
       "      <td>1.4635</td>\n",
       "      <td>INLAND</td>\n",
       "      <td>4.66216</td>\n",
       "      <td>4.33559</td>\n",
       "    </tr>\n",
       "    <tr>\n",
       "      <th>2</th>\n",
       "      <td>-121.67</td>\n",
       "      <td>40.89</td>\n",
       "      <td>17</td>\n",
       "      <td>2548</td>\n",
       "      <td>537</td>\n",
       "      <td>1118</td>\n",
       "      <td>461</td>\n",
       "      <td>2.267</td>\n",
       "      <td>INLAND</td>\n",
       "      <td>5.52711</td>\n",
       "      <td>2.42516</td>\n",
       "    </tr>\n",
       "    <tr>\n",
       "      <th>3</th>\n",
       "      <td>-118.11</td>\n",
       "      <td>34.03</td>\n",
       "      <td>36</td>\n",
       "      <td>1493</td>\n",
       "      <td>316</td>\n",
       "      <td>989</td>\n",
       "      <td>293</td>\n",
       "      <td>3.5272</td>\n",
       "      <td>&lt;1H OCEAN</td>\n",
       "      <td>5.09556</td>\n",
       "      <td>3.37543</td>\n",
       "    </tr>\n",
       "    <tr>\n",
       "      <th>4</th>\n",
       "      <td>-117.97</td>\n",
       "      <td>33.93</td>\n",
       "      <td>35</td>\n",
       "      <td>1887</td>\n",
       "      <td>328</td>\n",
       "      <td>989</td>\n",
       "      <td>351</td>\n",
       "      <td>4.1321</td>\n",
       "      <td>&lt;1H OCEAN</td>\n",
       "      <td>5.37607</td>\n",
       "      <td>2.81766</td>\n",
       "    </tr>\n",
       "  </tbody>\n",
       "</table>\n",
       "</div>"
      ],
      "text/plain": [
       "  longitude latitude housing_median_age total_rooms total_bedrooms population  \\\n",
       "0    -117.9     33.7                 12        4695           1110       2153   \n",
       "1   -119.78    36.75                 43        2070            512       1925   \n",
       "2   -121.67    40.89                 17        2548            537       1118   \n",
       "3   -118.11    34.03                 36        1493            316        989   \n",
       "4   -117.97    33.93                 35        1887            328        989   \n",
       "\n",
       "  households median_income ocean_proximity rooms_per_household  \\\n",
       "0        989        4.6483       <1H OCEAN             4.74722   \n",
       "1        444        1.4635          INLAND             4.66216   \n",
       "2        461         2.267          INLAND             5.52711   \n",
       "3        293        3.5272       <1H OCEAN             5.09556   \n",
       "4        351        4.1321       <1H OCEAN             5.37607   \n",
       "\n",
       "  population_per_household  \n",
       "0                  2.17695  \n",
       "1                  4.33559  \n",
       "2                  2.42516  \n",
       "3                  3.37543  \n",
       "4                  2.81766  "
      ]
     },
     "execution_count": 148,
     "metadata": {},
     "output_type": "execute_result"
    }
   ],
   "source": [
    "housing_num_tr=num_pipeline.fit_transform(housing_num)\n",
    "housing_num_tr=pd.DataFrame(\n",
    "    housing_extra_attribs,\n",
    "    columns=list(housing.columns)+[\"rooms_per_household\", \"population_per_household\"])\n",
    "housing_num_tr.head()"
   ]
  },
  {
   "cell_type": "code",
   "execution_count": 132,
   "metadata": {},
   "outputs": [],
   "source": [
    "from sklearn.base import BaseEstimator, TransformerMixin\n",
    "\n",
    "class DataFrameSelector(BaseEstimator, TransformerMixin):\n",
    "    def __init__(self, attribute_names):\n",
    "        self.attribute_names= attribute_names\n",
    "    def fit(self, X, y=None):\n",
    "        return self\n",
    "    def transform(self, X):\n",
    "        return X[self.attribute_names].values"
   ]
  },
  {
   "cell_type": "code",
   "execution_count": 133,
   "metadata": {},
   "outputs": [
    {
     "name": "stdout",
     "output_type": "stream",
     "text": [
      "['longitude', 'latitude', 'housing_median_age', 'total_rooms', 'total_bedrooms', 'population', 'households', 'median_income']\n"
     ]
    }
   ],
   "source": [
    "num_attribs= list(housing_num)\n",
    "print(list(housing_num))\n",
    "cat_attribs= [\"ocean_proximity\"]\n",
    "\n",
    "num_pipeline= Pipeline([\n",
    "    ('selector', DataFrameSelector(num_attribs)),\n",
    "    ('imputer', Imputer(strategy='median')),\n",
    "    ('attribs_adder', CombinedAttributesAdder()),\n",
    "    ('std_scaler', StandardScaler())\n",
    "])\n",
    "\n",
    "#cat_pipeline= Pipeline([\n",
    "#    ('selector', DataFrameSelector(cat_attribs)),\n",
    "#    ('label_binarizer', LabelBinarizer()),\n",
    "#])\n",
    "\n",
    "from sklearn_pandas import DataFrameMapper\n",
    "cat_pipeline = Pipeline([\n",
    "    ('label_binarizer', DataFrameMapper([(cat_attribs, LabelBinarizer())])),\n",
    "])"
   ]
  },
  {
   "cell_type": "code",
   "execution_count": 134,
   "metadata": {},
   "outputs": [],
   "source": [
    "from sklearn.pipeline import FeatureUnion\n",
    "\n",
    "full_pipeline= FeatureUnion(transformer_list=[\n",
    "    (\"num_pipeline\", num_pipeline),\n",
    "    (\"cat_pipeline\", cat_pipeline)\n",
    "])"
   ]
  },
  {
   "cell_type": "code",
   "execution_count": 135,
   "metadata": {},
   "outputs": [
    {
     "data": {
      "text/plain": [
       "array([[ 0.83777132, -0.90910198, -1.31880165, ...,  0.        ,\n",
       "         0.        ,  0.        ],\n",
       "       [-0.0982453 ,  0.5143055 ,  1.14388773, ...,  0.        ,\n",
       "         0.        ,  0.        ],\n",
       "       [-1.03924072,  2.44640613, -0.92159368, ...,  0.        ,\n",
       "         0.        ,  0.        ],\n",
       "       ...,\n",
       "       [ 1.26097031, -1.11444601, -1.15991846, ...,  0.        ,\n",
       "         0.        ,  0.        ],\n",
       "       [-0.96953735,  1.36834998,  0.3494718 , ...,  0.        ,\n",
       "         0.        ,  0.        ],\n",
       "       [-1.11392289,  1.09766921,  0.11114703, ...,  0.        ,\n",
       "         0.        ,  0.        ]])"
      ]
     },
     "execution_count": 135,
     "metadata": {},
     "output_type": "execute_result"
    }
   ],
   "source": [
    "housing_prepared=full_pipeline.fit_transform(housing)\n",
    "housing_prepared"
   ]
  },
  {
   "cell_type": "code",
   "execution_count": 137,
   "metadata": {},
   "outputs": [
    {
     "data": {
      "text/plain": [
       "(16512, 16)"
      ]
     },
     "execution_count": 137,
     "metadata": {},
     "output_type": "execute_result"
    }
   ],
   "source": [
    "housing_prepared=pd.DataFrame(housing_prepared,\n",
    "                              columns=list(housing_num.columns)+[\"rooms_per_household\", \"population_per_household\", \"x\",\"OP_Bin1\", \n",
    "                                           \"OP_Bin2\", \"OP_Bin3\", \"OP_Bin4\", \"OP_Bin5\"])\n",
    "housing_prepared.head()\n",
    "housing_prepared.shape"
   ]
  },
  {
   "cell_type": "code",
   "execution_count": 97,
   "metadata": {},
   "outputs": [
    {
     "ename": "IndexError",
     "evalue": "only integers, slices (`:`), ellipsis (`...`), numpy.newaxis (`None`) and integer or boolean arrays are valid indices",
     "output_type": "error",
     "traceback": [
      "\u001b[1;31m---------------------------------------------------------------------------\u001b[0m",
      "\u001b[1;31mIndexError\u001b[0m                                Traceback (most recent call last)",
      "\u001b[1;32m<ipython-input-97-6c65a1a7c1f1>\u001b[0m in \u001b[0;36m<module>\u001b[1;34m()\u001b[0m\n\u001b[0;32m      1\u001b[0m \u001b[1;31m#Divide by 1.5 to limit the number of income categories\u001b[0m\u001b[1;33m\u001b[0m\u001b[1;33m\u001b[0m\u001b[0m\n\u001b[1;32m----> 2\u001b[1;33m \u001b[0mhousing_prepared\u001b[0m\u001b[1;33m[\u001b[0m\u001b[1;34m\"income_cat\"\u001b[0m\u001b[1;33m]\u001b[0m\u001b[1;33m=\u001b[0m \u001b[0mnp\u001b[0m\u001b[1;33m.\u001b[0m\u001b[0mceil\u001b[0m\u001b[1;33m(\u001b[0m\u001b[0mhousing_prepared\u001b[0m\u001b[1;33m[\u001b[0m\u001b[1;34m\"median_income\"\u001b[0m\u001b[1;33m]\u001b[0m\u001b[1;33m/\u001b[0m\u001b[1;36m1.5\u001b[0m\u001b[1;33m)\u001b[0m\u001b[1;33m\u001b[0m\u001b[0m\n\u001b[0m\u001b[0;32m      3\u001b[0m \u001b[0mhousing_prepared\u001b[0m\u001b[1;33m[\u001b[0m\u001b[1;34m\"income_cat\"\u001b[0m\u001b[1;33m]\u001b[0m\u001b[1;33m.\u001b[0m\u001b[0mwhere\u001b[0m\u001b[1;33m(\u001b[0m\u001b[0mhousing_prepared\u001b[0m\u001b[1;33m[\u001b[0m\u001b[1;34m\"income_cat\"\u001b[0m\u001b[1;33m]\u001b[0m\u001b[1;33m<\u001b[0m\u001b[1;36m5\u001b[0m\u001b[1;33m,\u001b[0m\u001b[1;36m5.0\u001b[0m\u001b[1;33m,\u001b[0m \u001b[0minplace\u001b[0m\u001b[1;33m=\u001b[0m\u001b[1;32mTrue\u001b[0m\u001b[1;33m)\u001b[0m\u001b[1;33m\u001b[0m\u001b[0m\n\u001b[0;32m      4\u001b[0m \u001b[0mhousing_prepared\u001b[0m\u001b[1;33m[\u001b[0m\u001b[1;34m\"income_cat\"\u001b[0m\u001b[1;33m]\u001b[0m\u001b[1;33m.\u001b[0m\u001b[0mvalue_counts\u001b[0m\u001b[1;33m(\u001b[0m\u001b[1;33m)\u001b[0m\u001b[1;33m\u001b[0m\u001b[0m\n",
      "\u001b[1;31mIndexError\u001b[0m: only integers, slices (`:`), ellipsis (`...`), numpy.newaxis (`None`) and integer or boolean arrays are valid indices"
     ]
    }
   ],
   "source": []
  },
  {
   "cell_type": "code",
   "execution_count": 86,
   "metadata": {},
   "outputs": [],
   "source": []
  },
  {
   "cell_type": "code",
   "execution_count": 88,
   "metadata": {},
   "outputs": [
    {
     "name": "stdout",
     "output_type": "stream",
     "text": [
      "3.0    0.350533\n",
      "2.0    0.318798\n",
      "4.0    0.176357\n",
      "5.0    0.114583\n",
      "1.0    0.039729\n",
      "Name: income_cat, dtype: float64\n",
      "3.0    0.350594\n",
      "2.0    0.318859\n",
      "4.0    0.176296\n",
      "5.0    0.114402\n",
      "1.0    0.039850\n",
      "Name: income_cat, dtype: float64\n",
      "3.0    0.350581\n",
      "2.0    0.318847\n",
      "4.0    0.176308\n",
      "5.0    0.114438\n",
      "1.0    0.039826\n",
      "Name: income_cat, dtype: float64\n"
     ]
    }
   ],
   "source": []
  },
  {
   "cell_type": "code",
   "execution_count": 150,
   "metadata": {},
   "outputs": [
    {
     "data": {
      "text/plain": [
       "LinearRegression(copy_X=True, fit_intercept=True, n_jobs=1, normalize=False)"
      ]
     },
     "execution_count": 150,
     "metadata": {},
     "output_type": "execute_result"
    }
   ],
   "source": [
    "#Implement Linear Regression\n",
    "\n",
    "from sklearn.linear_model import LinearRegression\n",
    "\n",
    "housing_labels= strat_train_label.copy()\n",
    "\n",
    "lin_reg= LinearRegression()\n",
    "lin_reg.fit(housing_prepared, housing_labels)"
   ]
  },
  {
   "cell_type": "code",
   "execution_count": 154,
   "metadata": {},
   "outputs": [
    {
     "name": "stdout",
     "output_type": "stream",
     "text": [
      "Predictions: [274369.41779856  55315.37709485  32410.55033648 204224.47020141\n",
      " 227822.7362163 ]\n"
     ]
    }
   ],
   "source": [
    "#Trying out on few instances\n",
    "some_data= housing_prepared.iloc[:5]\n",
    "some_labels= housing_labels.iloc[:5]\n",
    "#some_prepared_data= full_pipeline.fit_transform(some_data)\n",
    "print(\"Predictions:\", lin_reg.predict(some_data))"
   ]
  },
  {
   "cell_type": "code",
   "execution_count": 156,
   "metadata": {},
   "outputs": [
    {
     "name": "stdout",
     "output_type": "stream",
     "text": [
      "[190800, 46600, 57800, 213700, 198100]\n"
     ]
    }
   ],
   "source": [
    "print(list(some_labels))"
   ]
  },
  {
   "cell_type": "code",
   "execution_count": 157,
   "metadata": {},
   "outputs": [
    {
     "data": {
      "text/plain": [
       "68163.84275048292"
      ]
     },
     "execution_count": 157,
     "metadata": {},
     "output_type": "execute_result"
    }
   ],
   "source": [
    "#Check quality of model\n",
    "\n",
    "from sklearn.metrics import mean_squared_error\n",
    "\n",
    "housing_predictions= lin_reg.predict(housing_prepared)\n",
    "lin_mse= mean_squared_error(housing_labels, housing_predictions)\n",
    "lin_rmse= np.sqrt(lin_mse)\n",
    "lin_rmse\n",
    "\n",
    "#Underfitting model"
   ]
  },
  {
   "cell_type": "code",
   "execution_count": 158,
   "metadata": {},
   "outputs": [
    {
     "data": {
      "text/plain": [
       "DecisionTreeRegressor(criterion='mse', max_depth=None, max_features=None,\n",
       "           max_leaf_nodes=None, min_impurity_decrease=0.0,\n",
       "           min_impurity_split=None, min_samples_leaf=1,\n",
       "           min_samples_split=2, min_weight_fraction_leaf=0.0,\n",
       "           presort=False, random_state=None, splitter='best')"
      ]
     },
     "execution_count": 158,
     "metadata": {},
     "output_type": "execute_result"
    }
   ],
   "source": [
    "#Using Decision Tree Regressor\n",
    "\n",
    "from sklearn.tree import DecisionTreeRegressor\n",
    "\n",
    "tree_reg= DecisionTreeRegressor()\n",
    "tree_reg.fit(housing_prepared, housing_labels)"
   ]
  },
  {
   "cell_type": "code",
   "execution_count": 159,
   "metadata": {},
   "outputs": [
    {
     "data": {
      "text/plain": [
       "0.0"
      ]
     },
     "execution_count": 159,
     "metadata": {},
     "output_type": "execute_result"
    }
   ],
   "source": [
    "housing_predictions= tree_reg.predict(housing_prepared)\n",
    "tree_rmse= mean_squared_error(housing_labels, housing_predictions)\n",
    "tree_rmse= np.sqrt(tree_rmse)\n",
    "tree_rmse\n",
    "\n",
    "# Now it is overfitting"
   ]
  },
  {
   "cell_type": "code",
   "execution_count": 185,
   "metadata": {},
   "outputs": [
    {
     "data": {
      "text/plain": [
       "array([72101.75396772, 72970.26595298, 70826.85006014, 71247.40959417,\n",
       "       72280.18966972, 66974.92116526, 67700.20489167, 70101.27220869,\n",
       "       69678.65350573, 68483.40780742])"
      ]
     },
     "execution_count": 185,
     "metadata": {},
     "output_type": "execute_result"
    }
   ],
   "source": [
    "#Using cross validation\n",
    "\n",
    "from sklearn.model_selection import cross_val_score\n",
    "scores= cross_val_score(tree_reg, housing_prepared, housing_labels, scoring=\"neg_mean_squared_error\", cv=10)\n",
    "tree_rmse_scores= np.sqrt(-scores)\n",
    "tree_rmse_scores"
   ]
  },
  {
   "cell_type": "code",
   "execution_count": 186,
   "metadata": {},
   "outputs": [
    {
     "name": "stdout",
     "output_type": "stream",
     "text": [
      "Scores: [72101.75396772 72970.26595298 70826.85006014 71247.40959417\n",
      " 72280.18966972 66974.92116526 67700.20489167 70101.27220869\n",
      " 69678.65350573 68483.40780742]\n",
      "Mean: 70236.4928823486\n",
      "Standard Deviation: 1922.8434255204024\n"
     ]
    }
   ],
   "source": [
    "#Check RMSE\n",
    "def display_scores(scores):\n",
    "    print(\"Scores:\", scores)\n",
    "    print(\"Mean:\", scores.mean())\n",
    "    print(\"Standard Deviation:\", scores.std())"
   ]
  },
  {
   "cell_type": "code",
   "execution_count": null,
   "metadata": {},
   "outputs": [],
   "source": [
    "#RMSE of Decision Tree\n",
    "\n",
    "display_scores(tree_rmse_scores)"
   ]
  },
  {
   "cell_type": "code",
   "execution_count": 182,
   "metadata": {},
   "outputs": [
    {
     "name": "stdout",
     "output_type": "stream",
     "text": [
      "Scores: [69632.10182642 69118.84646769 66254.64334091 70558.40593379\n",
      " 68047.48394193 67849.54843674 69175.15807561 69398.05276184\n",
      " 67851.48398075 67127.03528939]\n",
      "Mean: 68501.27600550669\n",
      "Standard Deviation: 1230.4093246429832\n"
     ]
    }
   ],
   "source": [
    "#RMSE of Linear Regression\n",
    "\n",
    "lin_scores= cross_val_score(lin_reg, housing_prepared, housing_labels, scoring= \"neg_mean_squared_error\", cv=10)\n",
    "\n",
    "lin_rmse_scores= np.sqrt(-lin_scores)\n",
    "display_scores(lin_rmse_scores)"
   ]
  },
  {
   "cell_type": "code",
   "execution_count": null,
   "metadata": {},
   "outputs": [],
   "source": []
  }
 ],
 "metadata": {
  "kernelspec": {
   "display_name": "Python 3",
   "language": "python",
   "name": "python3"
  },
  "language_info": {
   "codemirror_mode": {
    "name": "ipython",
    "version": 3
   },
   "file_extension": ".py",
   "mimetype": "text/x-python",
   "name": "python",
   "nbconvert_exporter": "python",
   "pygments_lexer": "ipython3",
   "version": "3.6.5"
  }
 },
 "nbformat": 4,
 "nbformat_minor": 2
}
